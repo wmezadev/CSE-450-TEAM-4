{
  "nbformat": 4,
  "nbformat_minor": 0,
  "metadata": {
    "colab": {
      "name": "starter_bank.ipynb",
      "provenance": []
    },
    "kernelspec": {
      "name": "python3",
      "display_name": "Python 3"
    }
  },
  "cells": [
    {
      "cell_type": "markdown",
      "source": [
        "# Declare all required dependencies and import data that will required to build model upon."
      ],
      "metadata": {
        "id": "sN-jxGgcCXD1"
      }
    },
    {
      "cell_type": "code",
      "metadata": {
        "id": "mA0HPVmIBT4C",
        "colab": {
          "base_uri": "https://localhost:8080/"
        },
        "outputId": "13c0b2ae-a00f-4e59-eeeb-acef4efb25a7"
      },
      "source": [
        "import pandas as pd\n",
        "from sklearn.model_selection import train_test_split\n",
        "from sklearn.compose import ColumnTransformer\n",
        "from sklearn.pipeline import Pipeline\n",
        "from sklearn.preprocessing import MinMaxScaler, OneHotEncoder\n",
        "from sklearn.tree import DecisionTreeClassifier\n",
        "from sklearn.metrics import accuracy_score, classification_report, confusion_matrix\n",
        "\n",
        "campaign = pd.read_csv('https://raw.githubusercontent.com/byui-cse/cse450-course/master/data/bank.csv')\n",
        "campaign.describe"
      ],
      "execution_count": 13,
      "outputs": [
        {
          "output_type": "execute_result",
          "data": {
            "text/plain": [
              "<bound method NDFrame.describe of        age          job  marital            education  default housing loan  \\\n",
              "0       56    housemaid  married             basic.4y       no      no   no   \n",
              "1       57     services  married          high.school  unknown      no   no   \n",
              "2       37     services  married          high.school       no     yes   no   \n",
              "3       40       admin.  married             basic.6y       no      no   no   \n",
              "4       56     services  married          high.school       no      no  yes   \n",
              "...    ...          ...      ...                  ...      ...     ...  ...   \n",
              "37064   73      retired  married  professional.course       no     yes   no   \n",
              "37065   46  blue-collar  married  professional.course       no      no   no   \n",
              "37066   56      retired  married    university.degree       no     yes   no   \n",
              "37067   44   technician  married  professional.course       no      no   no   \n",
              "37068   74      retired  married  professional.course       no     yes   no   \n",
              "\n",
              "         contact month day_of_week  campaign  pdays  previous     poutcome  \\\n",
              "0      telephone   may         mon         1    999         0  nonexistent   \n",
              "1      telephone   may         mon         1    999         0  nonexistent   \n",
              "2      telephone   may         mon         1    999         0  nonexistent   \n",
              "3      telephone   may         mon         1    999         0  nonexistent   \n",
              "4      telephone   may         mon         1    999         0  nonexistent   \n",
              "...          ...   ...         ...       ...    ...       ...          ...   \n",
              "37064   cellular   nov         fri         1    999         0  nonexistent   \n",
              "37065   cellular   nov         fri         1    999         0  nonexistent   \n",
              "37066   cellular   nov         fri         2    999         0  nonexistent   \n",
              "37067   cellular   nov         fri         1    999         0  nonexistent   \n",
              "37068   cellular   nov         fri         3    999         1      failure   \n",
              "\n",
              "       emp.var.rate  cons.price.idx  cons.conf.idx  euribor3m  nr.employed  \\\n",
              "0               1.1          93.994          -36.4      4.857       5191.0   \n",
              "1               1.1          93.994          -36.4      4.857       5191.0   \n",
              "2               1.1          93.994          -36.4      4.857       5191.0   \n",
              "3               1.1          93.994          -36.4      4.857       5191.0   \n",
              "4               1.1          93.994          -36.4      4.857       5191.0   \n",
              "...             ...             ...            ...        ...          ...   \n",
              "37064          -1.1          94.767          -50.8      1.028       4963.6   \n",
              "37065          -1.1          94.767          -50.8      1.028       4963.6   \n",
              "37066          -1.1          94.767          -50.8      1.028       4963.6   \n",
              "37067          -1.1          94.767          -50.8      1.028       4963.6   \n",
              "37068          -1.1          94.767          -50.8      1.028       4963.6   \n",
              "\n",
              "         y  \n",
              "0       no  \n",
              "1       no  \n",
              "2       no  \n",
              "3       no  \n",
              "4       no  \n",
              "...    ...  \n",
              "37064  yes  \n",
              "37065   no  \n",
              "37066   no  \n",
              "37067  yes  \n",
              "37068   no  \n",
              "\n",
              "[37069 rows x 20 columns]>"
            ]
          },
          "metadata": {},
          "execution_count": 13
        }
      ]
    },
    {
      "cell_type": "markdown",
      "source": [
        "# Prepare data"
      ],
      "metadata": {
        "id": "6R2pcTPhC5Hp"
      }
    },
    {
      "cell_type": "code",
      "metadata": {
        "id": "StiU5QcPPxqQ"
      },
      "source": [
        "training, testing = train_test_split(campaign, test_size=0.2, random_state=42)\n",
        "\n",
        "X_train = training.drop('y', axis=1)\n",
        "y_train = training['y'].map({'yes': 1, 'no': 0})\n",
        "\n",
        "X_test = testing.drop('y', axis=1)\n",
        "y_test = testing['y'].map({'yes': 1, 'no': 0})\n",
        "\n",
        "numerics = ['age','cons.conf.idx']\n",
        "time = ['month']\n",
        "\n",
        "ctMinMax = ColumnTransformer(\n",
        "    transformers=[\n",
        "        ('confidentMax', MinMaxScaler(), numerics),\n",
        "        ('time', OneHotEncoder(),time)\n",
        "        ])"
      ],
      "execution_count": 38,
      "outputs": []
    },
    {
      "cell_type": "code",
      "metadata": {
        "id": "ALLMN63FPyEQ",
        "colab": {
          "base_uri": "https://localhost:8080/",
          "height": 188
        },
        "outputId": "a535725d-b526-42b7-8a9d-5482c01cd9ad"
      },
      "source": [
        "# Train the Decision Tree model\n",
        "dtc = DecisionTreeClassifier(max_depth=5, random_state=42)\n",
        "\n",
        "# Create a pipeline for the model\n",
        "Model = Pipeline(steps=[\n",
        "    ('preprocessor', ctMinMax),\n",
        "    ('classifier', dtc)\n",
        "])\n",
        "\n",
        "# Fit the model on the training data\n",
        "Model.fit(X_train, y_train)"
      ],
      "execution_count": 39,
      "outputs": [
        {
          "output_type": "execute_result",
          "data": {
            "text/plain": [
              "Pipeline(steps=[('preprocessor',\n",
              "                 ColumnTransformer(transformers=[('confidentMax',\n",
              "                                                  MinMaxScaler(),\n",
              "                                                  ['age', 'cons.conf.idx']),\n",
              "                                                 ('time', OneHotEncoder(),\n",
              "                                                  ['month'])])),\n",
              "                ('classifier',\n",
              "                 DecisionTreeClassifier(max_depth=5, random_state=42))])"
            ],
            "text/html": [
              "<style>#sk-container-id-8 {color: black;background-color: white;}#sk-container-id-8 pre{padding: 0;}#sk-container-id-8 div.sk-toggleable {background-color: white;}#sk-container-id-8 label.sk-toggleable__label {cursor: pointer;display: block;width: 100%;margin-bottom: 0;padding: 0.3em;box-sizing: border-box;text-align: center;}#sk-container-id-8 label.sk-toggleable__label-arrow:before {content: \"▸\";float: left;margin-right: 0.25em;color: #696969;}#sk-container-id-8 label.sk-toggleable__label-arrow:hover:before {color: black;}#sk-container-id-8 div.sk-estimator:hover label.sk-toggleable__label-arrow:before {color: black;}#sk-container-id-8 div.sk-toggleable__content {max-height: 0;max-width: 0;overflow: hidden;text-align: left;background-color: #f0f8ff;}#sk-container-id-8 div.sk-toggleable__content pre {margin: 0.2em;color: black;border-radius: 0.25em;background-color: #f0f8ff;}#sk-container-id-8 input.sk-toggleable__control:checked~div.sk-toggleable__content {max-height: 200px;max-width: 100%;overflow: auto;}#sk-container-id-8 input.sk-toggleable__control:checked~label.sk-toggleable__label-arrow:before {content: \"▾\";}#sk-container-id-8 div.sk-estimator input.sk-toggleable__control:checked~label.sk-toggleable__label {background-color: #d4ebff;}#sk-container-id-8 div.sk-label input.sk-toggleable__control:checked~label.sk-toggleable__label {background-color: #d4ebff;}#sk-container-id-8 input.sk-hidden--visually {border: 0;clip: rect(1px 1px 1px 1px);clip: rect(1px, 1px, 1px, 1px);height: 1px;margin: -1px;overflow: hidden;padding: 0;position: absolute;width: 1px;}#sk-container-id-8 div.sk-estimator {font-family: monospace;background-color: #f0f8ff;border: 1px dotted black;border-radius: 0.25em;box-sizing: border-box;margin-bottom: 0.5em;}#sk-container-id-8 div.sk-estimator:hover {background-color: #d4ebff;}#sk-container-id-8 div.sk-parallel-item::after {content: \"\";width: 100%;border-bottom: 1px solid gray;flex-grow: 1;}#sk-container-id-8 div.sk-label:hover label.sk-toggleable__label {background-color: #d4ebff;}#sk-container-id-8 div.sk-serial::before {content: \"\";position: absolute;border-left: 1px solid gray;box-sizing: border-box;top: 0;bottom: 0;left: 50%;z-index: 0;}#sk-container-id-8 div.sk-serial {display: flex;flex-direction: column;align-items: center;background-color: white;padding-right: 0.2em;padding-left: 0.2em;position: relative;}#sk-container-id-8 div.sk-item {position: relative;z-index: 1;}#sk-container-id-8 div.sk-parallel {display: flex;align-items: stretch;justify-content: center;background-color: white;position: relative;}#sk-container-id-8 div.sk-item::before, #sk-container-id-8 div.sk-parallel-item::before {content: \"\";position: absolute;border-left: 1px solid gray;box-sizing: border-box;top: 0;bottom: 0;left: 50%;z-index: -1;}#sk-container-id-8 div.sk-parallel-item {display: flex;flex-direction: column;z-index: 1;position: relative;background-color: white;}#sk-container-id-8 div.sk-parallel-item:first-child::after {align-self: flex-end;width: 50%;}#sk-container-id-8 div.sk-parallel-item:last-child::after {align-self: flex-start;width: 50%;}#sk-container-id-8 div.sk-parallel-item:only-child::after {width: 0;}#sk-container-id-8 div.sk-dashed-wrapped {border: 1px dashed gray;margin: 0 0.4em 0.5em 0.4em;box-sizing: border-box;padding-bottom: 0.4em;background-color: white;}#sk-container-id-8 div.sk-label label {font-family: monospace;font-weight: bold;display: inline-block;line-height: 1.2em;}#sk-container-id-8 div.sk-label-container {text-align: center;}#sk-container-id-8 div.sk-container {/* jupyter's `normalize.less` sets `[hidden] { display: none; }` but bootstrap.min.css set `[hidden] { display: none !important; }` so we also need the `!important` here to be able to override the default hidden behavior on the sphinx rendered scikit-learn.org. See: https://github.com/scikit-learn/scikit-learn/issues/21755 */display: inline-block !important;position: relative;}#sk-container-id-8 div.sk-text-repr-fallback {display: none;}</style><div id=\"sk-container-id-8\" class=\"sk-top-container\"><div class=\"sk-text-repr-fallback\"><pre>Pipeline(steps=[(&#x27;preprocessor&#x27;,\n",
              "                 ColumnTransformer(transformers=[(&#x27;confidentMax&#x27;,\n",
              "                                                  MinMaxScaler(),\n",
              "                                                  [&#x27;age&#x27;, &#x27;cons.conf.idx&#x27;]),\n",
              "                                                 (&#x27;time&#x27;, OneHotEncoder(),\n",
              "                                                  [&#x27;month&#x27;])])),\n",
              "                (&#x27;classifier&#x27;,\n",
              "                 DecisionTreeClassifier(max_depth=5, random_state=42))])</pre><b>In a Jupyter environment, please rerun this cell to show the HTML representation or trust the notebook. <br />On GitHub, the HTML representation is unable to render, please try loading this page with nbviewer.org.</b></div><div class=\"sk-container\" hidden><div class=\"sk-item sk-dashed-wrapped\"><div class=\"sk-label-container\"><div class=\"sk-label sk-toggleable\"><input class=\"sk-toggleable__control sk-hidden--visually\" id=\"sk-estimator-id-44\" type=\"checkbox\" ><label for=\"sk-estimator-id-44\" class=\"sk-toggleable__label sk-toggleable__label-arrow\">Pipeline</label><div class=\"sk-toggleable__content\"><pre>Pipeline(steps=[(&#x27;preprocessor&#x27;,\n",
              "                 ColumnTransformer(transformers=[(&#x27;confidentMax&#x27;,\n",
              "                                                  MinMaxScaler(),\n",
              "                                                  [&#x27;age&#x27;, &#x27;cons.conf.idx&#x27;]),\n",
              "                                                 (&#x27;time&#x27;, OneHotEncoder(),\n",
              "                                                  [&#x27;month&#x27;])])),\n",
              "                (&#x27;classifier&#x27;,\n",
              "                 DecisionTreeClassifier(max_depth=5, random_state=42))])</pre></div></div></div><div class=\"sk-serial\"><div class=\"sk-item sk-dashed-wrapped\"><div class=\"sk-label-container\"><div class=\"sk-label sk-toggleable\"><input class=\"sk-toggleable__control sk-hidden--visually\" id=\"sk-estimator-id-45\" type=\"checkbox\" ><label for=\"sk-estimator-id-45\" class=\"sk-toggleable__label sk-toggleable__label-arrow\">preprocessor: ColumnTransformer</label><div class=\"sk-toggleable__content\"><pre>ColumnTransformer(transformers=[(&#x27;confidentMax&#x27;, MinMaxScaler(),\n",
              "                                 [&#x27;age&#x27;, &#x27;cons.conf.idx&#x27;]),\n",
              "                                (&#x27;time&#x27;, OneHotEncoder(), [&#x27;month&#x27;])])</pre></div></div></div><div class=\"sk-parallel\"><div class=\"sk-parallel-item\"><div class=\"sk-item\"><div class=\"sk-label-container\"><div class=\"sk-label sk-toggleable\"><input class=\"sk-toggleable__control sk-hidden--visually\" id=\"sk-estimator-id-46\" type=\"checkbox\" ><label for=\"sk-estimator-id-46\" class=\"sk-toggleable__label sk-toggleable__label-arrow\">confidentMax</label><div class=\"sk-toggleable__content\"><pre>[&#x27;age&#x27;, &#x27;cons.conf.idx&#x27;]</pre></div></div></div><div class=\"sk-serial\"><div class=\"sk-item\"><div class=\"sk-estimator sk-toggleable\"><input class=\"sk-toggleable__control sk-hidden--visually\" id=\"sk-estimator-id-47\" type=\"checkbox\" ><label for=\"sk-estimator-id-47\" class=\"sk-toggleable__label sk-toggleable__label-arrow\">MinMaxScaler</label><div class=\"sk-toggleable__content\"><pre>MinMaxScaler()</pre></div></div></div></div></div></div><div class=\"sk-parallel-item\"><div class=\"sk-item\"><div class=\"sk-label-container\"><div class=\"sk-label sk-toggleable\"><input class=\"sk-toggleable__control sk-hidden--visually\" id=\"sk-estimator-id-48\" type=\"checkbox\" ><label for=\"sk-estimator-id-48\" class=\"sk-toggleable__label sk-toggleable__label-arrow\">time</label><div class=\"sk-toggleable__content\"><pre>[&#x27;month&#x27;]</pre></div></div></div><div class=\"sk-serial\"><div class=\"sk-item\"><div class=\"sk-estimator sk-toggleable\"><input class=\"sk-toggleable__control sk-hidden--visually\" id=\"sk-estimator-id-49\" type=\"checkbox\" ><label for=\"sk-estimator-id-49\" class=\"sk-toggleable__label sk-toggleable__label-arrow\">OneHotEncoder</label><div class=\"sk-toggleable__content\"><pre>OneHotEncoder()</pre></div></div></div></div></div></div></div></div><div class=\"sk-item\"><div class=\"sk-estimator sk-toggleable\"><input class=\"sk-toggleable__control sk-hidden--visually\" id=\"sk-estimator-id-50\" type=\"checkbox\" ><label for=\"sk-estimator-id-50\" class=\"sk-toggleable__label sk-toggleable__label-arrow\">DecisionTreeClassifier</label><div class=\"sk-toggleable__content\"><pre>DecisionTreeClassifier(max_depth=5, random_state=42)</pre></div></div></div></div></div></div></div>"
            ]
          },
          "metadata": {},
          "execution_count": 39
        }
      ]
    },
    {
      "cell_type": "code",
      "metadata": {
        "id": "RnGBwGVZPyyh",
        "colab": {
          "base_uri": "https://localhost:8080/"
        },
        "outputId": "579f0cb0-3709-4359-829c-4530bf0b7fdb"
      },
      "source": [
        "y_train_pred = Model.predict(X_train)\n",
        "y_train_pred"
      ],
      "execution_count": 40,
      "outputs": [
        {
          "output_type": "execute_result",
          "data": {
            "text/plain": [
              "array([0, 0, 0, ..., 0, 0, 0])"
            ]
          },
          "metadata": {},
          "execution_count": 40
        }
      ]
    },
    {
      "cell_type": "code",
      "metadata": {
        "id": "CVSfaqgKPzE2",
        "colab": {
          "base_uri": "https://localhost:8080/"
        },
        "outputId": "d26ce682-7899-4de4-e3f4-0b6ab687b1f1"
      },
      "source": [
        "# Evaluate the model on the training data\n",
        "print(\"Training accuracy:\", accuracy_score(y_train, y_train_pred))\n",
        "print(\"Training classification report:\\n\", classification_report(y_train, y_train_pred))\n",
        "print(\"Training confusion matrix:\\n\", confusion_matrix(y_train, y_train_pred))\n",
        "\n",
        "# Make predictions on the test data\n",
        "y_test_pred = Model.predict(X_test)\n",
        "\n",
        "# Evaluate the model on the test data\n",
        "print(\"\\nTest accuracy:\", accuracy_score(y_test, y_test_pred))\n",
        "print(\"Test classification report:\\n\", classification_report(y_test, y_test_pred))\n",
        "print(\"Test confusion matrix:\\n\", confusion_matrix(y_test, y_test_pred))\n",
        "print(\"First 10 test predictions:\", y_test_pred[:10])"
      ],
      "execution_count": 41,
      "outputs": [
        {
          "output_type": "stream",
          "name": "stdout",
          "text": [
            "Training accuracy: 0.8922610015174507\n",
            "Training classification report:\n",
            "               precision    recall  f1-score   support\n",
            "\n",
            "           0       0.90      0.99      0.94     26333\n",
            "           1       0.61      0.10      0.18      3322\n",
            "\n",
            "    accuracy                           0.89     29655\n",
            "   macro avg       0.76      0.55      0.56     29655\n",
            "weighted avg       0.87      0.89      0.86     29655\n",
            "\n",
            "Training confusion matrix:\n",
            " [[26115   218]\n",
            " [ 2977   345]]\n",
            "\n",
            "Test accuracy: 0.8864310763420555\n",
            "Test classification report:\n",
            "               precision    recall  f1-score   support\n",
            "\n",
            "           0       0.89      0.99      0.94      6528\n",
            "           1       0.63      0.12      0.20       886\n",
            "\n",
            "    accuracy                           0.89      7414\n",
            "   macro avg       0.76      0.56      0.57      7414\n",
            "weighted avg       0.86      0.89      0.85      7414\n",
            "\n",
            "Test confusion matrix:\n",
            " [[6465   63]\n",
            " [ 779  107]]\n",
            "First 10 test predictions: [0 0 0 0 0 0 0 0 0 0]\n"
          ]
        }
      ]
    },
    {
      "cell_type": "code",
      "source": [
        "from google.colab import files\n",
        "# Load the holdout dataset\n",
        "holdout_data = pd.read_csv('https://raw.githubusercontent.com/byui-cse/cse450-course/master/data/bank_holdout_test.csv')\n",
        "\n",
        "# Make predictions using the trained model\n",
        "holdout_predictions = Model.predict(holdout_data)\n",
        "\n",
        "# Create a DataFrame with the predictions\n",
        "predictions_df = pd.DataFrame(holdout_predictions, columns=['predictions'])\n",
        "\n",
        "# Save the predictions to a CSV file\n",
        "predictions_df.to_csv('predictions.csv', index=False)\n",
        "\n",
        "# Download the CSV file\n",
        "files.download('predictions.csv')"
      ],
      "metadata": {
        "id": "As6ID_lgqaZL",
        "outputId": "1835664d-63d3-4f7e-9d22-428ef43dcd36",
        "colab": {
          "base_uri": "https://localhost:8080/",
          "height": 17
        }
      },
      "execution_count": 10,
      "outputs": [
        {
          "output_type": "display_data",
          "data": {
            "text/plain": [
              "<IPython.core.display.Javascript object>"
            ],
            "application/javascript": [
              "\n",
              "    async function download(id, filename, size) {\n",
              "      if (!google.colab.kernel.accessAllowed) {\n",
              "        return;\n",
              "      }\n",
              "      const div = document.createElement('div');\n",
              "      const label = document.createElement('label');\n",
              "      label.textContent = `Downloading \"${filename}\": `;\n",
              "      div.appendChild(label);\n",
              "      const progress = document.createElement('progress');\n",
              "      progress.max = size;\n",
              "      div.appendChild(progress);\n",
              "      document.body.appendChild(div);\n",
              "\n",
              "      const buffers = [];\n",
              "      let downloaded = 0;\n",
              "\n",
              "      const channel = await google.colab.kernel.comms.open(id);\n",
              "      // Send a message to notify the kernel that we're ready.\n",
              "      channel.send({})\n",
              "\n",
              "      for await (const message of channel.messages) {\n",
              "        // Send a message to notify the kernel that we're ready.\n",
              "        channel.send({})\n",
              "        if (message.buffers) {\n",
              "          for (const buffer of message.buffers) {\n",
              "            buffers.push(buffer);\n",
              "            downloaded += buffer.byteLength;\n",
              "            progress.value = downloaded;\n",
              "          }\n",
              "        }\n",
              "      }\n",
              "      const blob = new Blob(buffers, {type: 'application/binary'});\n",
              "      const a = document.createElement('a');\n",
              "      a.href = window.URL.createObjectURL(blob);\n",
              "      a.download = filename;\n",
              "      div.appendChild(a);\n",
              "      a.click();\n",
              "      div.remove();\n",
              "    }\n",
              "  "
            ]
          },
          "metadata": {}
        },
        {
          "output_type": "display_data",
          "data": {
            "text/plain": [
              "<IPython.core.display.Javascript object>"
            ],
            "application/javascript": [
              "download(\"download_4f748f36-aa30-4d43-ba9a-8d46bd800451\", \"predictions.csv\", 8250)"
            ]
          },
          "metadata": {}
        }
      ]
    }
  ]
}