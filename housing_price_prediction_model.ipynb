{
  "nbformat": 4,
  "nbformat_minor": 0,
  "metadata": {
    "colab": {
      "name": "housing price prediction model.ipynb",
      "provenance": [],
      "include_colab_link": true
    },
    "kernelspec": {
      "name": "python3",
      "display_name": "Python 3"
    }
  },
  "cells": [
    {
      "cell_type": "markdown",
      "metadata": {
        "id": "view-in-github",
        "colab_type": "text"
      },
      "source": [
        "<a href=\"https://colab.research.google.com/github/wmezadev/CSE-450-TEAM-4/blob/luke%2Fimprove-housing-model/housing_price_prediction_model.ipynb\" target=\"_parent\"><img src=\"https://colab.research.google.com/assets/colab-badge.svg\" alt=\"Open In Colab\"/></a>"
      ]
    },
    {
      "cell_type": "code",
      "metadata": {
        "id": "mA0HPVmIBT4C"
      },
      "source": [
        "# SET UP\n",
        "import pandas as pd\n",
        "import xgboost as xgb\n",
        "from xgboost import XGBClassifier\n",
        "from sklearn.metrics import r2_score\n",
        "from sklearn.model_selection import train_test_split\n",
        "from sklearn.preprocessing import RobustScaler\n",
        "from sklearn.compose import ColumnTransformer\n",
        "from sklearn.pipeline import Pipeline\n",
        "from google.colab import files\n",
        "\n",
        "housing = pd.read_csv('https://raw.githubusercontent.com/byui-cse/cse450-course/master/data/housing.csv')"
      ],
      "execution_count": 288,
      "outputs": []
    },
    {
      "cell_type": "code",
      "source": [
        "# PREP AND SPLIT DATA\n",
        "X = housing.drop(['id', 'date', 'price', 'yr_renovated', 'sqft_basement'], axis=1) # drop yr_renovated and sqft_basement because the \"0\" that means none is throwing off the model\n",
        "y = housing['price']\n",
        "\n",
        "X_train, X_test, y_train, y_test = train_test_split(X, y, test_size=.2, train_size=.8)"
      ],
      "metadata": {
        "id": "M9cW1NgHJ-RP"
      },
      "execution_count": 289,
      "outputs": []
    },
    {
      "cell_type": "code",
      "source": [
        "# TRAIN MODEL\n",
        "model = xgb.XGBRegressor(objective='reg:squarederror', n_estimators=400, max_depth=5, learning_rate=.1)\n",
        "\n",
        "model.fit(X_train, y_train)\n",
        "y_pred = model.predict(X_test)"
      ],
      "metadata": {
        "id": "HsMgs1R_h8oM"
      },
      "execution_count": 290,
      "outputs": []
    },
    {
      "cell_type": "code",
      "source": [
        "# TEST MODEL WITH TEST DATA\n",
        "# 87-90% accuracy\n",
        "print(r2_score(y_test, y_pred))"
      ],
      "metadata": {
        "colab": {
          "base_uri": "https://localhost:8080/"
        },
        "id": "OYa5Y8SticMZ",
        "outputId": "03cbfe95-912a-4b69-e196-f76f34db403a"
      },
      "execution_count": 291,
      "outputs": [
        {
          "output_type": "stream",
          "name": "stdout",
          "text": [
            "0.9057616672896026\n"
          ]
        }
      ]
    },
    {
      "cell_type": "code",
      "source": [
        "# HOLDOUT SET RESULTS\n",
        "# get holdout data, drop correct columns\n",
        "holdout_data = pd.read_csv('https://raw.githubusercontent.com/byui-cse/cse450-course/master/data/housing_holdout_test.csv')\n",
        "holdout_data = holdout_data.drop(['id', 'date', 'yr_renovated', 'sqft_basement'], axis=1)\n",
        "\n",
        "# make the predictions using the model\n",
        "holdout_data_predictions = model.predict(holdout_data)\n",
        "\n",
        "# stick it in a df, convert to csv, and save\n",
        "predictions_df = pd.DataFrame(holdout_data_predictions, columns=['price'])\n",
        "predictions_df.to_csv('team4-module3-predictions.csv', index=False)\n",
        "# files.download('team4-module3-predictions.csv') # uncomment if you want to save the file to your computer"
      ],
      "metadata": {
        "id": "Xj0iOfX0xl2n"
      },
      "execution_count": 292,
      "outputs": []
    },
    {
      "cell_type": "code",
      "source": [
        "# MINI HOLDOUT SET RESULTS\n",
        "# get holdout data, drop correct columns\n",
        "mini_holdout_data = pd.read_csv('https://raw.githubusercontent.com/byui-cse/cse450-course/master/data/housing_holdout_test_mini.csv')\n",
        "mini_holdout_data = mini_holdout_data.drop(['id', 'date', 'yr_renovated', 'sqft_basement'], axis=1)\n",
        "\n",
        "# make the predictions using the model\n",
        "mini_holdout_data_predictions = model.predict(mini_holdout_data)\n",
        "\n",
        "# stick it in a df, convert to csv, and save\n",
        "predictions_df = pd.DataFrame(mini_holdout_data_predictions, columns=['price'])\n",
        "predictions_df.to_csv('team4-module3-predictions.csv', index=False)\n",
        "# files.download('team4-module3-predictions.csv') # uncomment if you want to save the file to your computer"
      ],
      "metadata": {
        "id": "v55GV_vNo-fB"
      },
      "execution_count": 293,
      "outputs": []
    }
  ]
}