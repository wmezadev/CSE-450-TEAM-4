{
  "nbformat": 4,
  "nbformat_minor": 0,
  "metadata": {
    "colab": {
      "provenance": [],
      "include_colab_link": true
    },
    "kernelspec": {
      "name": "python3",
      "display_name": "Python 3"
    }
  },
  "cells": [
    {
      "cell_type": "markdown",
      "metadata": {
        "id": "view-in-github",
        "colab_type": "text"
      },
      "source": [
        "<a href=\"https://colab.research.google.com/github/wmezadev/CSE-450-TEAM-4/blob/elias%2Fmodule-4/module-4/starter_bikes.ipynb\" target=\"_parent\"><img src=\"https://colab.research.google.com/assets/colab-badge.svg\" alt=\"Open In Colab\"/></a>"
      ]
    },
    {
      "cell_type": "markdown",
      "source": [
        "# Introduction\n",
        "WelcomeBike Bike Rentals is a Beijing-based bike rental company that has recently expanded to include a handful of US locations. You've been asked to build a neural network that will predict the number of bike rentals for a given day and hour for their Washington DC branch.\n",
        "\n",
        "\n",
        "# Data Dictionary for the bikes dataset\n",
        "- instant: record index \n",
        "- dteday : date \n",
        "- season : season (1:winter, 2:spring, 3:summer, 4:fall) \n",
        "- hr : hour (0 to 23) \n",
        "- holiday : weather day is holiday or not\n",
        "- workingday : if day is neither weekend nor holiday is 1, otherwise is 0. \n",
        "+ weathersit : \n",
        "- 1: Clear, Few clouds, Partly cloudy, Partly cloudy \n",
        "- 2: Mist + Cloudy, Mist + Broken clouds, Mist + Few clouds, Mist \n",
        "- 3: Light Snow, Light Rain + Thunderstorm + Scattered clouds, Light Rain + Scattered clouds \n",
        "- 4: Heavy Rain + Ice Pallets + Thunderstorm + Mist, Snow + Fog \n",
        "- temp_c : temperature in Celsius. \n",
        "- feels_like_c: \"Feels like\" temperature in Celsius. \n",
        "- hum: humidity percentage\n",
        "- windspeed: Wind speed.\n",
        "- casual: count of casual users \n",
        "- registered: count of registered users "
      ],
      "metadata": {
        "id": "z1e5g-KZ8FSK"
      }
    },
    {
      "cell_type": "code",
      "metadata": {
        "id": "mA0HPVmIBT4C",
        "outputId": "b5fb6fcd-15f8-4287-991a-8a425700a566",
        "colab": {
          "base_uri": "https://localhost:8080/",
          "height": 206
        }
      },
      "source": [
        "import pandas as pd\n",
        "import tensorflow as tf\n",
        "from tensorflow import keras\n",
        "from tensorflow.keras import layers\n",
        "\n",
        "bikes = pd.read_csv('https://raw.githubusercontent.com/byui-cse/cse450-course/master/data/bikes.csv')\n",
        "\n",
        "bikes.head()"
      ],
      "execution_count": null,
      "outputs": [
        {
          "output_type": "execute_result",
          "data": {
            "text/plain": [
              "   dteday  season  hr  holiday  workingday  weathersit   hum  windspeed  \\\n",
              "0  1/1/11       1   0        0           0           1  0.81          0   \n",
              "1  1/1/11       1   1        0           0           1  0.80          0   \n",
              "2  1/1/11       1   2        0           0           1  0.80          0   \n",
              "3  1/1/11       1   3        0           0           1  0.75          0   \n",
              "4  1/1/11       1   4        0           0           1  0.75          0   \n",
              "\n",
              "   temp_c  feels_like_c  casual  registered  \n",
              "0    3.28        3.0014       3          13  \n",
              "1    2.34        1.9982       8          32  \n",
              "2    2.34        1.9982       5          27  \n",
              "3    3.28        3.0014       3          10  \n",
              "4    3.28        3.0014       0           1  "
            ],
            "text/html": [
              "\n",
              "  <div id=\"df-d09e9011-07a1-4ea7-a30e-7d90ad98c726\">\n",
              "    <div class=\"colab-df-container\">\n",
              "      <div>\n",
              "<style scoped>\n",
              "    .dataframe tbody tr th:only-of-type {\n",
              "        vertical-align: middle;\n",
              "    }\n",
              "\n",
              "    .dataframe tbody tr th {\n",
              "        vertical-align: top;\n",
              "    }\n",
              "\n",
              "    .dataframe thead th {\n",
              "        text-align: right;\n",
              "    }\n",
              "</style>\n",
              "<table border=\"1\" class=\"dataframe\">\n",
              "  <thead>\n",
              "    <tr style=\"text-align: right;\">\n",
              "      <th></th>\n",
              "      <th>dteday</th>\n",
              "      <th>season</th>\n",
              "      <th>hr</th>\n",
              "      <th>holiday</th>\n",
              "      <th>workingday</th>\n",
              "      <th>weathersit</th>\n",
              "      <th>hum</th>\n",
              "      <th>windspeed</th>\n",
              "      <th>temp_c</th>\n",
              "      <th>feels_like_c</th>\n",
              "      <th>casual</th>\n",
              "      <th>registered</th>\n",
              "    </tr>\n",
              "  </thead>\n",
              "  <tbody>\n",
              "    <tr>\n",
              "      <th>0</th>\n",
              "      <td>1/1/11</td>\n",
              "      <td>1</td>\n",
              "      <td>0</td>\n",
              "      <td>0</td>\n",
              "      <td>0</td>\n",
              "      <td>1</td>\n",
              "      <td>0.81</td>\n",
              "      <td>0</td>\n",
              "      <td>3.28</td>\n",
              "      <td>3.0014</td>\n",
              "      <td>3</td>\n",
              "      <td>13</td>\n",
              "    </tr>\n",
              "    <tr>\n",
              "      <th>1</th>\n",
              "      <td>1/1/11</td>\n",
              "      <td>1</td>\n",
              "      <td>1</td>\n",
              "      <td>0</td>\n",
              "      <td>0</td>\n",
              "      <td>1</td>\n",
              "      <td>0.80</td>\n",
              "      <td>0</td>\n",
              "      <td>2.34</td>\n",
              "      <td>1.9982</td>\n",
              "      <td>8</td>\n",
              "      <td>32</td>\n",
              "    </tr>\n",
              "    <tr>\n",
              "      <th>2</th>\n",
              "      <td>1/1/11</td>\n",
              "      <td>1</td>\n",
              "      <td>2</td>\n",
              "      <td>0</td>\n",
              "      <td>0</td>\n",
              "      <td>1</td>\n",
              "      <td>0.80</td>\n",
              "      <td>0</td>\n",
              "      <td>2.34</td>\n",
              "      <td>1.9982</td>\n",
              "      <td>5</td>\n",
              "      <td>27</td>\n",
              "    </tr>\n",
              "    <tr>\n",
              "      <th>3</th>\n",
              "      <td>1/1/11</td>\n",
              "      <td>1</td>\n",
              "      <td>3</td>\n",
              "      <td>0</td>\n",
              "      <td>0</td>\n",
              "      <td>1</td>\n",
              "      <td>0.75</td>\n",
              "      <td>0</td>\n",
              "      <td>3.28</td>\n",
              "      <td>3.0014</td>\n",
              "      <td>3</td>\n",
              "      <td>10</td>\n",
              "    </tr>\n",
              "    <tr>\n",
              "      <th>4</th>\n",
              "      <td>1/1/11</td>\n",
              "      <td>1</td>\n",
              "      <td>4</td>\n",
              "      <td>0</td>\n",
              "      <td>0</td>\n",
              "      <td>1</td>\n",
              "      <td>0.75</td>\n",
              "      <td>0</td>\n",
              "      <td>3.28</td>\n",
              "      <td>3.0014</td>\n",
              "      <td>0</td>\n",
              "      <td>1</td>\n",
              "    </tr>\n",
              "  </tbody>\n",
              "</table>\n",
              "</div>\n",
              "      <button class=\"colab-df-convert\" onclick=\"convertToInteractive('df-d09e9011-07a1-4ea7-a30e-7d90ad98c726')\"\n",
              "              title=\"Convert this dataframe to an interactive table.\"\n",
              "              style=\"display:none;\">\n",
              "        \n",
              "  <svg xmlns=\"http://www.w3.org/2000/svg\" height=\"24px\"viewBox=\"0 0 24 24\"\n",
              "       width=\"24px\">\n",
              "    <path d=\"M0 0h24v24H0V0z\" fill=\"none\"/>\n",
              "    <path d=\"M18.56 5.44l.94 2.06.94-2.06 2.06-.94-2.06-.94-.94-2.06-.94 2.06-2.06.94zm-11 1L8.5 8.5l.94-2.06 2.06-.94-2.06-.94L8.5 2.5l-.94 2.06-2.06.94zm10 10l.94 2.06.94-2.06 2.06-.94-2.06-.94-.94-2.06-.94 2.06-2.06.94z\"/><path d=\"M17.41 7.96l-1.37-1.37c-.4-.4-.92-.59-1.43-.59-.52 0-1.04.2-1.43.59L10.3 9.45l-7.72 7.72c-.78.78-.78 2.05 0 2.83L4 21.41c.39.39.9.59 1.41.59.51 0 1.02-.2 1.41-.59l7.78-7.78 2.81-2.81c.8-.78.8-2.07 0-2.86zM5.41 20L4 18.59l7.72-7.72 1.47 1.35L5.41 20z\"/>\n",
              "  </svg>\n",
              "      </button>\n",
              "      \n",
              "  <style>\n",
              "    .colab-df-container {\n",
              "      display:flex;\n",
              "      flex-wrap:wrap;\n",
              "      gap: 12px;\n",
              "    }\n",
              "\n",
              "    .colab-df-convert {\n",
              "      background-color: #E8F0FE;\n",
              "      border: none;\n",
              "      border-radius: 50%;\n",
              "      cursor: pointer;\n",
              "      display: none;\n",
              "      fill: #1967D2;\n",
              "      height: 32px;\n",
              "      padding: 0 0 0 0;\n",
              "      width: 32px;\n",
              "    }\n",
              "\n",
              "    .colab-df-convert:hover {\n",
              "      background-color: #E2EBFA;\n",
              "      box-shadow: 0px 1px 2px rgba(60, 64, 67, 0.3), 0px 1px 3px 1px rgba(60, 64, 67, 0.15);\n",
              "      fill: #174EA6;\n",
              "    }\n",
              "\n",
              "    [theme=dark] .colab-df-convert {\n",
              "      background-color: #3B4455;\n",
              "      fill: #D2E3FC;\n",
              "    }\n",
              "\n",
              "    [theme=dark] .colab-df-convert:hover {\n",
              "      background-color: #434B5C;\n",
              "      box-shadow: 0px 1px 3px 1px rgba(0, 0, 0, 0.15);\n",
              "      filter: drop-shadow(0px 1px 2px rgba(0, 0, 0, 0.3));\n",
              "      fill: #FFFFFF;\n",
              "    }\n",
              "  </style>\n",
              "\n",
              "      <script>\n",
              "        const buttonEl =\n",
              "          document.querySelector('#df-d09e9011-07a1-4ea7-a30e-7d90ad98c726 button.colab-df-convert');\n",
              "        buttonEl.style.display =\n",
              "          google.colab.kernel.accessAllowed ? 'block' : 'none';\n",
              "\n",
              "        async function convertToInteractive(key) {\n",
              "          const element = document.querySelector('#df-d09e9011-07a1-4ea7-a30e-7d90ad98c726');\n",
              "          const dataTable =\n",
              "            await google.colab.kernel.invokeFunction('convertToInteractive',\n",
              "                                                     [key], {});\n",
              "          if (!dataTable) return;\n",
              "\n",
              "          const docLinkHtml = 'Like what you see? Visit the ' +\n",
              "            '<a target=\"_blank\" href=https://colab.research.google.com/notebooks/data_table.ipynb>data table notebook</a>'\n",
              "            + ' to learn more about interactive tables.';\n",
              "          element.innerHTML = '';\n",
              "          dataTable['output_type'] = 'display_data';\n",
              "          await google.colab.output.renderOutput(dataTable, element);\n",
              "          const docLink = document.createElement('div');\n",
              "          docLink.innerHTML = docLinkHtml;\n",
              "          element.appendChild(docLink);\n",
              "        }\n",
              "      </script>\n",
              "    </div>\n",
              "  </div>\n",
              "  "
            ]
          },
          "metadata": {},
          "execution_count": 6
        }
      ]
    },
    {
      "cell_type": "code",
      "metadata": {
        "id": "StiU5QcPPxqQ",
        "outputId": "ffecf1d4-c690-48d7-a58e-15a4eda4765a",
        "colab": {
          "base_uri": "https://localhost:8080/"
        }
      },
      "source": [
        "bikes.info()"
      ],
      "execution_count": null,
      "outputs": [
        {
          "output_type": "stream",
          "name": "stdout",
          "text": [
            "<class 'pandas.core.frame.DataFrame'>\n",
            "RangeIndex: 16637 entries, 0 to 16636\n",
            "Data columns (total 12 columns):\n",
            " #   Column        Non-Null Count  Dtype  \n",
            "---  ------        --------------  -----  \n",
            " 0   dteday        16637 non-null  object \n",
            " 1   season        16637 non-null  int64  \n",
            " 2   hr            16637 non-null  int64  \n",
            " 3   holiday       16637 non-null  int64  \n",
            " 4   workingday    16637 non-null  int64  \n",
            " 5   weathersit    16637 non-null  int64  \n",
            " 6   hum           16637 non-null  float64\n",
            " 7   windspeed     16637 non-null  int64  \n",
            " 8   temp_c        16637 non-null  float64\n",
            " 9   feels_like_c  16637 non-null  float64\n",
            " 10  casual        16637 non-null  int64  \n",
            " 11  registered    16637 non-null  int64  \n",
            "dtypes: float64(3), int64(8), object(1)\n",
            "memory usage: 1.5+ MB\n"
          ]
        }
      ]
    },
    {
      "cell_type": "markdown",
      "source": [
        "# Project Issues\n",
        "\n",
        "Please make sure to submit both a .csv with these predictions and your executive summary.\n",
        "\n",
        "## Initial Model (Austin & Nicholas)\n",
        "You've been asked to build a neural network that will predict the number of bike rentals for a given day and hour for their Washington DC branch.\n",
        "\n",
        "## Bikes December / Testing (William)\n",
        "ZHAO, CEO OF WELCOMEBIKE: Oh one more thing, while you've been working with data up through November for your analysis, we just received December's as well, and I'd like to see how your model does with it.\n",
        "\n",
        "Could you give me the total number of bikes you'd expect for each day in this dataset? I'm not concerned with whether they are registered or casual at this point, just the total number for each hour of each day found here:\n",
        "https://raw.githubusercontent.com/byui-cse/cse450-course/master/data/bikes_december.csv\n"
      ],
      "metadata": {
        "id": "kLM8yYty_VPX"
      }
    },
    {
      "cell_type": "markdown",
      "source": [
        "# Project Questions\n",
        "\n"
      ],
      "metadata": {
        "id": "LCSxPKTM9ATR"
      }
    },
    {
      "cell_type": "markdown",
      "source": [
        "## NETWORK LAYERS AND HYPERPARAMETERS\n",
        "\n",
        "ZHAO, CEO OF WELCOMEBIKE: My brother-in-law works for a big AI company in Hong Kong. We've chatted a bit about neural networks, and I was wondering how many layers you think the network should have.\n",
        "\n",
        "If you run your model on the data and the results seem lower than you expected, which of the following hyperparameters do you feel has the most potential for model improvement?\n",
        "\n",
        "A - Number of neurons and number of hidden layers.\n",
        "\n",
        "B - Learning rate and optimizer selection.\n",
        "\n",
        "C - Batch size and number of epochs.\n",
        "\n",
        "D - Activation functions of the layers and overall loss function.\n",
        "\n",
        "Answer:"
      ],
      "metadata": {
        "id": "18GpHZl0-8Yi"
      }
    },
    {
      "cell_type": "markdown",
      "source": [
        "## FEATURE ENGINEERING\n",
        "\n",
        "JOHNNY, DATA SCIENCE INTERN: Looking at the features we have, how do you think we should handle the temperature features?\n",
        "\n",
        "Answer:\n",
        "\n"
      ],
      "metadata": {
        "id": "iFEEHCc9-2--"
      }
    },
    {
      "cell_type": "markdown",
      "source": [
        "## LEARNING RATE\n",
        "\n",
        "ZHAO, CEO OF WELCOMEBIKE: My brother-in-law told me that I should be careful with how I handle learning rate in my network.\n",
        "\n",
        "What approach do you think you're going to take to find the optimal learning rate?\n",
        "\n",
        "Answer:"
      ],
      "metadata": {
        "id": "9EG8Ovv1-yvO"
      }
    },
    {
      "cell_type": "markdown",
      "source": [
        "## LOSS FUNCTION\n",
        "\n",
        "JOHNNY, DATA SCIENCE INTERN: How will we know if our model has strong predictive power?\n",
        "\n",
        "What are you planning to use for the loss function?\n",
        "\n",
        "Answer: "
      ],
      "metadata": {
        "id": "pQRes6Ls-ufe"
      }
    },
    {
      "cell_type": "markdown",
      "source": [
        "## PREDICTIVE RISK MODEL\n",
        "WILLIAM, INVESTMENT BANKER: We would like use AI to predict the likelihood of damage based on user profile data, such as name, birthday, sex, or address, so that we can add an insurance premium to the rental cost. We are concerned that there may be ethical/legal implications here, what would you recommend?\n",
        "\n",
        "A - We can do this, as long as the users have provided that profile data and we have kept record of previous damages.\n",
        "\n",
        "B - Using any profile data in this way would be inappropriate.\n",
        "\n",
        "C - As long as we only use name and address, that would be fine.\n",
        "\n",
        "D - Instead of using their profile data, we could track their usage via GPS and feed those live statistics (speed, angle, direction) into the model and deactivate the bike if the model predicts they will damage the bike. (For example, if they were going extremely fast down a crowded sidewalk.)\n",
        "\n",
        "Answer:"
      ],
      "metadata": {
        "id": "3_J7DzLi-lTM"
      }
    }
  ]
}