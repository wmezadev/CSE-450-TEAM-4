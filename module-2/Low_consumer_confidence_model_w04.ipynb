{
  "nbformat": 4,
  "nbformat_minor": 0,
  "metadata": {
    "colab": {
      "provenance": [],
      "include_colab_link": true
    },
    "kernelspec": {
      "name": "python3",
      "display_name": "Python 3"
    }
  },
  "cells": [
    {
      "cell_type": "markdown",
      "metadata": {
        "id": "view-in-github",
        "colab_type": "text"
      },
      "source": [
        "<a href=\"https://colab.research.google.com/github/wmezadev/CSE-450-TEAM-4/blob/austinsChanges/Low_consumer_confidence_model_w04.ipynb\" target=\"_parent\"><img src=\"https://colab.research.google.com/assets/colab-badge.svg\" alt=\"Open In Colab\"/></a>"
      ]
    },
    {
      "cell_type": "markdown",
      "source": [
        "##  Trained Decision Tree Classifier for Bank Term Deposit Subscription Prediction using low/ and high consumer confidence"
      ],
      "metadata": {
        "id": "3BBHa_OUywly"
      }
    },
    {
      "cell_type": "markdown",
      "source": [
        "## Import Libraries and Read Data"
      ],
      "metadata": {
        "id": "Z8TWPhPty4yy"
      }
    },
    {
      "cell_type": "code",
      "source": [
        "import pandas as pd\n",
        "from sklearn.model_selection import train_test_split\n",
        "from sklearn.compose import ColumnTransformer\n",
        "from sklearn.pipeline import Pipeline\n",
        "from sklearn.preprocessing import StandardScaler, OneHotEncoder\n",
        "from sklearn.tree import DecisionTreeClassifier\n",
        "from sklearn.metrics import accuracy_score, classification_report, confusion_matrix\n",
        "import math\n",
        "\n",
        "# Read the data from the CSV file:\n",
        "campaign = pd.read_csv('https://raw.githubusercontent.com/byui-cse/cse450-course/master/data/bank.csv')"
      ],
      "metadata": {
        "id": "hUgbrDvhj8DP"
      },
      "execution_count": null,
      "outputs": []
    },
    {
      "cell_type": "markdown",
      "source": [
        "## Prepare and Preprocess the Data\n"
      ],
      "metadata": {
        "id": "spoHdjMEzBgt"
      }
    },
    {
      "cell_type": "code",
      "source": [
        "#We need to seperate the low from the high consumer confidence values for these two models\n",
        "\n",
        "count = 0\n",
        "\n",
        "campaignSorted = campaign.sort_values('cons.conf.idx', ascending=False)\n",
        "campaignSorted.head()\n",
        "campaignSortedMiddle = math.floor(len(campaignSorted)/2)\n",
        "LowestConfidenceData = campaignSorted[campaignSortedMiddle:]\n",
        "\n"
      ],
      "metadata": {
        "id": "YXwIqRIaXlwW"
      },
      "execution_count": null,
      "outputs": []
    },
    {
      "cell_type": "code",
      "source": [
        "# Split data 80/20 for train and test\n",
        "train_data_low, test_data_low = train_test_split(LowestConfidenceData, test_size=0.2, random_state=42) \n",
        "# Prepare the training data\n",
        "low_X_train = train_data_low.drop('y', axis=1)\n",
        "low_y_train = train_data_low['y'].map({'yes': 1, 'no': 0})\n",
        "\n",
        "\n",
        "# Prepare the test data\n",
        "low_X_test = test_data_low.drop('y', axis=1)\n",
        "low_y_test = test_data_low['y'].map({'yes': 1, 'no': 0})\n",
        "\n",
        "# Preprocessing: Define column transformer\n",
        "numeric_features = ['age', 'campaign', 'pdays', 'previous', 'emp.var.rate', 'cons.price.idx', 'cons.conf.idx', 'euribor3m', 'nr.employed']\n",
        "categorical_features = ['job', 'marital', 'education', 'default', 'housing', 'loan', 'contact', 'month', 'day_of_week', 'poutcome']\n",
        "preprocessor = ColumnTransformer(\n",
        "    transformers=[\n",
        "        ('num', StandardScaler(), numeric_features),\n",
        "        ('cat', OneHotEncoder(drop='first', handle_unknown='ignore'), categorical_features)])"
      ],
      "metadata": {
        "id": "rXE6GFlyzeLq"
      },
      "execution_count": null,
      "outputs": []
    },
    {
      "cell_type": "markdown",
      "source": [
        "## Create and train the model"
      ],
      "metadata": {
        "id": "gR66OcUa0Exf"
      }
    },
    {
      "cell_type": "code",
      "source": [
        "# Train the Decision Tree model\n",
        "low_model = DecisionTreeClassifier(max_depth=5, random_state=42)\n",
        "\n",
        "# Create a pipeline for the model\n",
        "model_low = Pipeline(steps=[\n",
        "    ('preprocessor', preprocessor),\n",
        "    ('classifier', low_model)\n",
        "])\n",
        "\n",
        "\n",
        "# Fit the model on the training data\n",
        "\n",
        "model_low.fit(low_X_train, low_y_train)"
      ],
      "metadata": {
        "colab": {
          "base_uri": "https://localhost:8080/",
          "height": 192
        },
        "id": "AOBnkJwF0N6X",
        "outputId": "6620da57-07e0-4892-92d4-48c5c69acda5"
      },
      "execution_count": null,
      "outputs": [
        {
          "output_type": "execute_result",
          "data": {
            "text/plain": [
              "Pipeline(steps=[('preprocessor',\n",
              "                 ColumnTransformer(transformers=[('num', StandardScaler(),\n",
              "                                                  ['age', 'campaign', 'pdays',\n",
              "                                                   'previous', 'emp.var.rate',\n",
              "                                                   'cons.price.idx',\n",
              "                                                   'cons.conf.idx', 'euribor3m',\n",
              "                                                   'nr.employed']),\n",
              "                                                 ('cat',\n",
              "                                                  OneHotEncoder(drop='first',\n",
              "                                                                handle_unknown='ignore'),\n",
              "                                                  ['job', 'marital',\n",
              "                                                   'education', 'default',\n",
              "                                                   'housing', 'loan', 'contact',\n",
              "                                                   'month', 'day_of_week',\n",
              "                                                   'poutcome'])])),\n",
              "                ('classifier',\n",
              "                 DecisionTreeClassifier(max_depth=5, random_state=42))])"
            ],
            "text/html": [
              "<style>#sk-container-id-8 {color: black;background-color: white;}#sk-container-id-8 pre{padding: 0;}#sk-container-id-8 div.sk-toggleable {background-color: white;}#sk-container-id-8 label.sk-toggleable__label {cursor: pointer;display: block;width: 100%;margin-bottom: 0;padding: 0.3em;box-sizing: border-box;text-align: center;}#sk-container-id-8 label.sk-toggleable__label-arrow:before {content: \"▸\";float: left;margin-right: 0.25em;color: #696969;}#sk-container-id-8 label.sk-toggleable__label-arrow:hover:before {color: black;}#sk-container-id-8 div.sk-estimator:hover label.sk-toggleable__label-arrow:before {color: black;}#sk-container-id-8 div.sk-toggleable__content {max-height: 0;max-width: 0;overflow: hidden;text-align: left;background-color: #f0f8ff;}#sk-container-id-8 div.sk-toggleable__content pre {margin: 0.2em;color: black;border-radius: 0.25em;background-color: #f0f8ff;}#sk-container-id-8 input.sk-toggleable__control:checked~div.sk-toggleable__content {max-height: 200px;max-width: 100%;overflow: auto;}#sk-container-id-8 input.sk-toggleable__control:checked~label.sk-toggleable__label-arrow:before {content: \"▾\";}#sk-container-id-8 div.sk-estimator input.sk-toggleable__control:checked~label.sk-toggleable__label {background-color: #d4ebff;}#sk-container-id-8 div.sk-label input.sk-toggleable__control:checked~label.sk-toggleable__label {background-color: #d4ebff;}#sk-container-id-8 input.sk-hidden--visually {border: 0;clip: rect(1px 1px 1px 1px);clip: rect(1px, 1px, 1px, 1px);height: 1px;margin: -1px;overflow: hidden;padding: 0;position: absolute;width: 1px;}#sk-container-id-8 div.sk-estimator {font-family: monospace;background-color: #f0f8ff;border: 1px dotted black;border-radius: 0.25em;box-sizing: border-box;margin-bottom: 0.5em;}#sk-container-id-8 div.sk-estimator:hover {background-color: #d4ebff;}#sk-container-id-8 div.sk-parallel-item::after {content: \"\";width: 100%;border-bottom: 1px solid gray;flex-grow: 1;}#sk-container-id-8 div.sk-label:hover label.sk-toggleable__label {background-color: #d4ebff;}#sk-container-id-8 div.sk-serial::before {content: \"\";position: absolute;border-left: 1px solid gray;box-sizing: border-box;top: 0;bottom: 0;left: 50%;z-index: 0;}#sk-container-id-8 div.sk-serial {display: flex;flex-direction: column;align-items: center;background-color: white;padding-right: 0.2em;padding-left: 0.2em;position: relative;}#sk-container-id-8 div.sk-item {position: relative;z-index: 1;}#sk-container-id-8 div.sk-parallel {display: flex;align-items: stretch;justify-content: center;background-color: white;position: relative;}#sk-container-id-8 div.sk-item::before, #sk-container-id-8 div.sk-parallel-item::before {content: \"\";position: absolute;border-left: 1px solid gray;box-sizing: border-box;top: 0;bottom: 0;left: 50%;z-index: -1;}#sk-container-id-8 div.sk-parallel-item {display: flex;flex-direction: column;z-index: 1;position: relative;background-color: white;}#sk-container-id-8 div.sk-parallel-item:first-child::after {align-self: flex-end;width: 50%;}#sk-container-id-8 div.sk-parallel-item:last-child::after {align-self: flex-start;width: 50%;}#sk-container-id-8 div.sk-parallel-item:only-child::after {width: 0;}#sk-container-id-8 div.sk-dashed-wrapped {border: 1px dashed gray;margin: 0 0.4em 0.5em 0.4em;box-sizing: border-box;padding-bottom: 0.4em;background-color: white;}#sk-container-id-8 div.sk-label label {font-family: monospace;font-weight: bold;display: inline-block;line-height: 1.2em;}#sk-container-id-8 div.sk-label-container {text-align: center;}#sk-container-id-8 div.sk-container {/* jupyter's `normalize.less` sets `[hidden] { display: none; }` but bootstrap.min.css set `[hidden] { display: none !important; }` so we also need the `!important` here to be able to override the default hidden behavior on the sphinx rendered scikit-learn.org. See: https://github.com/scikit-learn/scikit-learn/issues/21755 */display: inline-block !important;position: relative;}#sk-container-id-8 div.sk-text-repr-fallback {display: none;}</style><div id=\"sk-container-id-8\" class=\"sk-top-container\"><div class=\"sk-text-repr-fallback\"><pre>Pipeline(steps=[(&#x27;preprocessor&#x27;,\n",
              "                 ColumnTransformer(transformers=[(&#x27;num&#x27;, StandardScaler(),\n",
              "                                                  [&#x27;age&#x27;, &#x27;campaign&#x27;, &#x27;pdays&#x27;,\n",
              "                                                   &#x27;previous&#x27;, &#x27;emp.var.rate&#x27;,\n",
              "                                                   &#x27;cons.price.idx&#x27;,\n",
              "                                                   &#x27;cons.conf.idx&#x27;, &#x27;euribor3m&#x27;,\n",
              "                                                   &#x27;nr.employed&#x27;]),\n",
              "                                                 (&#x27;cat&#x27;,\n",
              "                                                  OneHotEncoder(drop=&#x27;first&#x27;,\n",
              "                                                                handle_unknown=&#x27;ignore&#x27;),\n",
              "                                                  [&#x27;job&#x27;, &#x27;marital&#x27;,\n",
              "                                                   &#x27;education&#x27;, &#x27;default&#x27;,\n",
              "                                                   &#x27;housing&#x27;, &#x27;loan&#x27;, &#x27;contact&#x27;,\n",
              "                                                   &#x27;month&#x27;, &#x27;day_of_week&#x27;,\n",
              "                                                   &#x27;poutcome&#x27;])])),\n",
              "                (&#x27;classifier&#x27;,\n",
              "                 DecisionTreeClassifier(max_depth=5, random_state=42))])</pre><b>In a Jupyter environment, please rerun this cell to show the HTML representation or trust the notebook. <br />On GitHub, the HTML representation is unable to render, please try loading this page with nbviewer.org.</b></div><div class=\"sk-container\" hidden><div class=\"sk-item sk-dashed-wrapped\"><div class=\"sk-label-container\"><div class=\"sk-label sk-toggleable\"><input class=\"sk-toggleable__control sk-hidden--visually\" id=\"sk-estimator-id-50\" type=\"checkbox\" ><label for=\"sk-estimator-id-50\" class=\"sk-toggleable__label sk-toggleable__label-arrow\">Pipeline</label><div class=\"sk-toggleable__content\"><pre>Pipeline(steps=[(&#x27;preprocessor&#x27;,\n",
              "                 ColumnTransformer(transformers=[(&#x27;num&#x27;, StandardScaler(),\n",
              "                                                  [&#x27;age&#x27;, &#x27;campaign&#x27;, &#x27;pdays&#x27;,\n",
              "                                                   &#x27;previous&#x27;, &#x27;emp.var.rate&#x27;,\n",
              "                                                   &#x27;cons.price.idx&#x27;,\n",
              "                                                   &#x27;cons.conf.idx&#x27;, &#x27;euribor3m&#x27;,\n",
              "                                                   &#x27;nr.employed&#x27;]),\n",
              "                                                 (&#x27;cat&#x27;,\n",
              "                                                  OneHotEncoder(drop=&#x27;first&#x27;,\n",
              "                                                                handle_unknown=&#x27;ignore&#x27;),\n",
              "                                                  [&#x27;job&#x27;, &#x27;marital&#x27;,\n",
              "                                                   &#x27;education&#x27;, &#x27;default&#x27;,\n",
              "                                                   &#x27;housing&#x27;, &#x27;loan&#x27;, &#x27;contact&#x27;,\n",
              "                                                   &#x27;month&#x27;, &#x27;day_of_week&#x27;,\n",
              "                                                   &#x27;poutcome&#x27;])])),\n",
              "                (&#x27;classifier&#x27;,\n",
              "                 DecisionTreeClassifier(max_depth=5, random_state=42))])</pre></div></div></div><div class=\"sk-serial\"><div class=\"sk-item sk-dashed-wrapped\"><div class=\"sk-label-container\"><div class=\"sk-label sk-toggleable\"><input class=\"sk-toggleable__control sk-hidden--visually\" id=\"sk-estimator-id-51\" type=\"checkbox\" ><label for=\"sk-estimator-id-51\" class=\"sk-toggleable__label sk-toggleable__label-arrow\">preprocessor: ColumnTransformer</label><div class=\"sk-toggleable__content\"><pre>ColumnTransformer(transformers=[(&#x27;num&#x27;, StandardScaler(),\n",
              "                                 [&#x27;age&#x27;, &#x27;campaign&#x27;, &#x27;pdays&#x27;, &#x27;previous&#x27;,\n",
              "                                  &#x27;emp.var.rate&#x27;, &#x27;cons.price.idx&#x27;,\n",
              "                                  &#x27;cons.conf.idx&#x27;, &#x27;euribor3m&#x27;,\n",
              "                                  &#x27;nr.employed&#x27;]),\n",
              "                                (&#x27;cat&#x27;,\n",
              "                                 OneHotEncoder(drop=&#x27;first&#x27;,\n",
              "                                               handle_unknown=&#x27;ignore&#x27;),\n",
              "                                 [&#x27;job&#x27;, &#x27;marital&#x27;, &#x27;education&#x27;, &#x27;default&#x27;,\n",
              "                                  &#x27;housing&#x27;, &#x27;loan&#x27;, &#x27;contact&#x27;, &#x27;month&#x27;,\n",
              "                                  &#x27;day_of_week&#x27;, &#x27;poutcome&#x27;])])</pre></div></div></div><div class=\"sk-parallel\"><div class=\"sk-parallel-item\"><div class=\"sk-item\"><div class=\"sk-label-container\"><div class=\"sk-label sk-toggleable\"><input class=\"sk-toggleable__control sk-hidden--visually\" id=\"sk-estimator-id-52\" type=\"checkbox\" ><label for=\"sk-estimator-id-52\" class=\"sk-toggleable__label sk-toggleable__label-arrow\">num</label><div class=\"sk-toggleable__content\"><pre>[&#x27;age&#x27;, &#x27;campaign&#x27;, &#x27;pdays&#x27;, &#x27;previous&#x27;, &#x27;emp.var.rate&#x27;, &#x27;cons.price.idx&#x27;, &#x27;cons.conf.idx&#x27;, &#x27;euribor3m&#x27;, &#x27;nr.employed&#x27;]</pre></div></div></div><div class=\"sk-serial\"><div class=\"sk-item\"><div class=\"sk-estimator sk-toggleable\"><input class=\"sk-toggleable__control sk-hidden--visually\" id=\"sk-estimator-id-53\" type=\"checkbox\" ><label for=\"sk-estimator-id-53\" class=\"sk-toggleable__label sk-toggleable__label-arrow\">StandardScaler</label><div class=\"sk-toggleable__content\"><pre>StandardScaler()</pre></div></div></div></div></div></div><div class=\"sk-parallel-item\"><div class=\"sk-item\"><div class=\"sk-label-container\"><div class=\"sk-label sk-toggleable\"><input class=\"sk-toggleable__control sk-hidden--visually\" id=\"sk-estimator-id-54\" type=\"checkbox\" ><label for=\"sk-estimator-id-54\" class=\"sk-toggleable__label sk-toggleable__label-arrow\">cat</label><div class=\"sk-toggleable__content\"><pre>[&#x27;job&#x27;, &#x27;marital&#x27;, &#x27;education&#x27;, &#x27;default&#x27;, &#x27;housing&#x27;, &#x27;loan&#x27;, &#x27;contact&#x27;, &#x27;month&#x27;, &#x27;day_of_week&#x27;, &#x27;poutcome&#x27;]</pre></div></div></div><div class=\"sk-serial\"><div class=\"sk-item\"><div class=\"sk-estimator sk-toggleable\"><input class=\"sk-toggleable__control sk-hidden--visually\" id=\"sk-estimator-id-55\" type=\"checkbox\" ><label for=\"sk-estimator-id-55\" class=\"sk-toggleable__label sk-toggleable__label-arrow\">OneHotEncoder</label><div class=\"sk-toggleable__content\"><pre>OneHotEncoder(drop=&#x27;first&#x27;, handle_unknown=&#x27;ignore&#x27;)</pre></div></div></div></div></div></div></div></div><div class=\"sk-item\"><div class=\"sk-estimator sk-toggleable\"><input class=\"sk-toggleable__control sk-hidden--visually\" id=\"sk-estimator-id-56\" type=\"checkbox\" ><label for=\"sk-estimator-id-56\" class=\"sk-toggleable__label sk-toggleable__label-arrow\">DecisionTreeClassifier</label><div class=\"sk-toggleable__content\"><pre>DecisionTreeClassifier(max_depth=5, random_state=42)</pre></div></div></div></div></div></div></div>"
            ]
          },
          "metadata": {},
          "execution_count": 54
        }
      ]
    },
    {
      "cell_type": "markdown",
      "source": [
        "## Evaluate the model's performance:"
      ],
      "metadata": {
        "id": "8bM7PYjx0wWt"
      }
    },
    {
      "cell_type": "code",
      "source": [
        "\n",
        "\n",
        "low_y_train_pred = model_low.predict(low_X_train)\n",
        "\n",
        "# Evaluate the model on the training data\n",
        "print(\"Training accuracy:\", accuracy_score(low_y_train, low_y_train_pred))\n",
        "print(\"Training classification report:\\n\", classification_report(low_y_train, low_y_train_pred))\n",
        "print(\"Training confusion matrix:\\n\", confusion_matrix(low_y_train, low_y_train_pred))\n",
        "\n",
        "\n",
        "# Make predictions on the test data\n",
        "low_y_test_pred = model_low.predict(low_X_test)\n",
        "\n",
        "# Evaluate the model on the test data\n",
        "print(\"\\nTest accuracy:\", accuracy_score(low_y_test, low_y_test_pred))\n",
        "print(\"Test classification report:\\n\", classification_report(low_y_test, low_y_test_pred))\n",
        "print(\"Test confusion matrix:\\n\", confusion_matrix(low_y_test, low_y_test_pred))\n",
        "print(\"First 10 test predictions:\", low_y_test_pred[:10])\n",
        "\n",
        "\n"
      ],
      "metadata": {
        "colab": {
          "base_uri": "https://localhost:8080/"
        },
        "id": "xHUpxhmyoYTs",
        "outputId": "3b4268cf-24ac-4f1a-b5de-d25c3eee9327"
      },
      "execution_count": null,
      "outputs": [
        {
          "output_type": "stream",
          "name": "stdout",
          "text": [
            "Training accuracy: 0.9132721877528999\n",
            "Training classification report:\n",
            "               precision    recall  f1-score   support\n",
            "\n",
            "           0       0.92      1.00      0.95     13459\n",
            "           1       0.71      0.10      0.18      1369\n",
            "\n",
            "    accuracy                           0.91     14828\n",
            "   macro avg       0.81      0.55      0.57     14828\n",
            "weighted avg       0.90      0.91      0.88     14828\n",
            "\n",
            "Training confusion matrix:\n",
            " [[13402    57]\n",
            " [ 1229   140]]\n",
            "\n",
            "Test accuracy: 0.9020771513353115\n",
            "Test classification report:\n",
            "               precision    recall  f1-score   support\n",
            "\n",
            "           0       0.91      0.99      0.95      3343\n",
            "           1       0.51      0.07      0.13       364\n",
            "\n",
            "    accuracy                           0.90      3707\n",
            "   macro avg       0.71      0.53      0.54      3707\n",
            "weighted avg       0.87      0.90      0.87      3707\n",
            "\n",
            "Test confusion matrix:\n",
            " [[3318   25]\n",
            " [ 338   26]]\n",
            "First 10 test predictions: [0 0 0 0 0 0 0 0 0 0]\n"
          ]
        }
      ]
    },
    {
      "cell_type": "markdown",
      "source": [
        "## Test the Holdout Data and Export Results"
      ],
      "metadata": {
        "id": "7DtRBWol1P5v"
      }
    },
    {
      "cell_type": "code",
      "source": [
        "from google.colab import files\n",
        "# Load the holdout dataset\n",
        "holdout_data = pd.read_csv('https://raw.githubusercontent.com/byui-cse/cse450-course/master/data/bank_holdout_test.csv')\n",
        "\n",
        "# Make predictions using the trained model\n",
        "holdout_predictions = model_low.predict(holdout_data)\n",
        "\n",
        "# Create a DataFrame with the predictions\n",
        "predictions_df = pd.DataFrame(holdout_predictions, columns=['predictions'])\n",
        "\n",
        "# Save the predictions to a CSV file\n",
        "predictions_df.to_csv('predictions.csv', index=False)\n",
        "\n",
        "# Download the CSV file\n",
        "files.download('predictions.csv')"
      ],
      "metadata": {
        "id": "p6RkjB_5so1p",
        "colab": {
          "base_uri": "https://localhost:8080/",
          "height": 72
        },
        "outputId": "84cecd54-b688-408b-8f11-8caae0011993"
      },
      "execution_count": null,
      "outputs": [
        {
          "output_type": "stream",
          "name": "stderr",
          "text": [
            "/usr/local/lib/python3.10/dist-packages/sklearn/preprocessing/_encoders.py:202: UserWarning: Found unknown categories in columns [7] during transform. These unknown categories will be encoded as all zeros\n",
            "  warnings.warn(\n"
          ]
        },
        {
          "output_type": "display_data",
          "data": {
            "text/plain": [
              "<IPython.core.display.Javascript object>"
            ],
            "application/javascript": [
              "\n",
              "    async function download(id, filename, size) {\n",
              "      if (!google.colab.kernel.accessAllowed) {\n",
              "        return;\n",
              "      }\n",
              "      const div = document.createElement('div');\n",
              "      const label = document.createElement('label');\n",
              "      label.textContent = `Downloading \"${filename}\": `;\n",
              "      div.appendChild(label);\n",
              "      const progress = document.createElement('progress');\n",
              "      progress.max = size;\n",
              "      div.appendChild(progress);\n",
              "      document.body.appendChild(div);\n",
              "\n",
              "      const buffers = [];\n",
              "      let downloaded = 0;\n",
              "\n",
              "      const channel = await google.colab.kernel.comms.open(id);\n",
              "      // Send a message to notify the kernel that we're ready.\n",
              "      channel.send({})\n",
              "\n",
              "      for await (const message of channel.messages) {\n",
              "        // Send a message to notify the kernel that we're ready.\n",
              "        channel.send({})\n",
              "        if (message.buffers) {\n",
              "          for (const buffer of message.buffers) {\n",
              "            buffers.push(buffer);\n",
              "            downloaded += buffer.byteLength;\n",
              "            progress.value = downloaded;\n",
              "          }\n",
              "        }\n",
              "      }\n",
              "      const blob = new Blob(buffers, {type: 'application/binary'});\n",
              "      const a = document.createElement('a');\n",
              "      a.href = window.URL.createObjectURL(blob);\n",
              "      a.download = filename;\n",
              "      div.appendChild(a);\n",
              "      a.click();\n",
              "      div.remove();\n",
              "    }\n",
              "  "
            ]
          },
          "metadata": {}
        },
        {
          "output_type": "display_data",
          "data": {
            "text/plain": [
              "<IPython.core.display.Javascript object>"
            ],
            "application/javascript": [
              "download(\"download_159d024e-68c0-4d0d-b45b-64eb13037412\", \"predictions.csv\", 8250)"
            ]
          },
          "metadata": {}
        }
      ]
    }
  ]
}