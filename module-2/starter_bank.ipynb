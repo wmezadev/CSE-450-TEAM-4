{
  "nbformat": 4,
  "nbformat_minor": 0,
  "metadata": {
    "colab": {
      "provenance": [],
      "include_colab_link": true
    },
    "kernelspec": {
      "name": "python3",
      "display_name": "Python 3"
    }
  },
  "cells": [
    {
      "cell_type": "markdown",
      "metadata": {
        "id": "view-in-github",
        "colab_type": "text"
      },
      "source": [
        "<a href=\"https://colab.research.google.com/github/wmezadev/CSE-450-TEAM-4/blob/init-data/starter_bank.ipynb\" target=\"_parent\"><img src=\"https://colab.research.google.com/assets/colab-badge.svg\" alt=\"Open In Colab\"/></a>"
      ]
    },
    {
      "cell_type": "markdown",
      "source": [
        "# DATA DICTIONARY FOR THE BANKING DATASET"
      ],
      "metadata": {
        "id": "SbmRgcjNCZdm"
      }
    },
    {
      "cell_type": "markdown",
      "source": [
        "We run campaigns periodically. In each campaign, we select a random set of customers, some of which we have already contacted in a previous campaign.\n",
        "\n",
        "This dataset contains a random set of customers we'd like to target. Some of them have been contacted previously, others haven't been. You can tell how long its been since they were contacted by looking at the \"pdays\" field and the number of times we've contacted them before by looking at the \"previous\" field. The \"poutcome\" field will tell you whether or not the last contact resulted in a successful outcome.\n",
        "\n",
        "We also have some information about the general economic conditions of the country at the time we last contacted each customer in the sample.\n",
        "\n",
        "\n",
        "## bank client data:\n",
        "\n",
        "age (numeric)\n",
        "\n",
        "job : type of job (categorical: \"admin.\",\"blue-collar\",\"entrepreneur\",\"housemaid\",\"management\",\"retired\",\"self-employed\",\"services\",\"student\",\"technician\",\"unemployed\",\"unknown\")\n",
        "\n",
        "marital : marital status (categorical: \"divorced\",\"married\",\"single\",\"unknown\"; note: \"divorced\" means divorced or widowed)\n",
        "\n",
        "education (categorical: \"basic.4y\",\"basic.6y\",\"basic.9y\",\"high.school\",\"illiterate\",\"professional.course\",\"university.degree\",\"unknown\")\n",
        "\n",
        "default: has credit in default? (categorical: \"no\",\"yes\",\"unknown\")\n",
        "\n",
        "housing: has housing loan? (categorical: \"no\",\"yes\",\"unknown\")\n",
        "\n",
        "loan: has personal loan? (categorical: \"no\",\"yes\",\"unknown\")\n",
        "\n",
        "## related with the last contact of the current campaign:\n",
        "\n",
        "contact: contact communication type (categorical: \"cellular\",\"telephone\")\n",
        "\n",
        "month: last contact month of year (categorical: \"jan\", \"feb\", \"mar\", …, \"nov\", \"dec\")\n",
        "\n",
        "dayofweek: last contact day of the week (categorical: \"mon\",\"tue\",\"wed\",\"thu\",\"fri\")\n",
        "\n",
        "## other attributes:\n",
        "\n",
        "campaign: number of contacts performed during this campaign and for this client (numeric, includes last contact)\n",
        "\n",
        "pdays: number of days that passed by after the client was last contacted from a previous campaign (numeric; 999 means client was not previously contacted)\n",
        "\n",
        "previous: number of contacts performed before this campaign and for this client (numeric)\n",
        "\n",
        "poutcome: outcome of the previous marketing campaign (categorical: \"failure\",\"nonexistent\",\"success\")\n",
        "\n",
        "## social and economic context attributes\n",
        "\n",
        "emp.var.rate: employment variation rate - quarterly indicator (numeric)\n",
        "\n",
        "cons.price.idx: consumer price index - monthly indicator (numeric)\n",
        "\n",
        "cons.conf.idx: consumer confidence index - monthly indicator (numeric)\n",
        "\n",
        "euribor3m: euribor 3 month rate - daily indicator (numeric)\n",
        "\n",
        "nr.employed: number of employees - quarterly indicator (numeric)\n",
        "\n",
        "## Output variable (desired target):\n",
        "\n",
        "y - has the client subscribed a term deposit? (binary: \"yes\",\"no\")\n",
        "\n",
        "## Missing Attribute Values\n",
        "\n",
        "There are several missing values in some categorical attributes, all coded with the \"unknown\" label. These missing values can be treated as a possible class label or using deletion or imputation techniques."
      ],
      "metadata": {
        "id": "timvyduvaw4j"
      }
    },
    {
      "cell_type": "code",
      "metadata": {
        "id": "mA0HPVmIBT4C"
      },
      "source": [
        "import pandas as pd\n",
        "\n",
        "campaign = pd.read_csv('https://raw.githubusercontent.com/byui-cse/cse450-course/master/data/bank.csv')"
      ],
      "execution_count": null,
      "outputs": []
    },
    {
      "cell_type": "code",
      "metadata": {
        "id": "StiU5QcPPxqQ",
        "colab": {
          "base_uri": "https://localhost:8080/",
          "height": 270
        },
        "outputId": "fcc35da2-2de3-422a-d054-a5bba439d155"
      },
      "source": [
        "# Display the first 5 rows of the dataframe\n",
        "campaign.head()"
      ],
      "execution_count": null,
      "outputs": [
        {
          "output_type": "execute_result",
          "data": {
            "text/plain": [
              "   age        job  marital    education  default housing loan    contact  \\\n",
              "0   56  housemaid  married     basic.4y       no      no   no  telephone   \n",
              "1   57   services  married  high.school  unknown      no   no  telephone   \n",
              "2   37   services  married  high.school       no     yes   no  telephone   \n",
              "3   40     admin.  married     basic.6y       no      no   no  telephone   \n",
              "4   56   services  married  high.school       no      no  yes  telephone   \n",
              "\n",
              "  month day_of_week  campaign  pdays  previous     poutcome  emp.var.rate  \\\n",
              "0   may         mon         1    999         0  nonexistent           1.1   \n",
              "1   may         mon         1    999         0  nonexistent           1.1   \n",
              "2   may         mon         1    999         0  nonexistent           1.1   \n",
              "3   may         mon         1    999         0  nonexistent           1.1   \n",
              "4   may         mon         1    999         0  nonexistent           1.1   \n",
              "\n",
              "   cons.price.idx  cons.conf.idx  euribor3m  nr.employed   y  \n",
              "0          93.994          -36.4      4.857       5191.0  no  \n",
              "1          93.994          -36.4      4.857       5191.0  no  \n",
              "2          93.994          -36.4      4.857       5191.0  no  \n",
              "3          93.994          -36.4      4.857       5191.0  no  \n",
              "4          93.994          -36.4      4.857       5191.0  no  "
            ],
            "text/html": [
              "\n",
              "  <div id=\"df-a2b4ebae-4f17-4ab6-adfb-248ba56bc83c\">\n",
              "    <div class=\"colab-df-container\">\n",
              "      <div>\n",
              "<style scoped>\n",
              "    .dataframe tbody tr th:only-of-type {\n",
              "        vertical-align: middle;\n",
              "    }\n",
              "\n",
              "    .dataframe tbody tr th {\n",
              "        vertical-align: top;\n",
              "    }\n",
              "\n",
              "    .dataframe thead th {\n",
              "        text-align: right;\n",
              "    }\n",
              "</style>\n",
              "<table border=\"1\" class=\"dataframe\">\n",
              "  <thead>\n",
              "    <tr style=\"text-align: right;\">\n",
              "      <th></th>\n",
              "      <th>age</th>\n",
              "      <th>job</th>\n",
              "      <th>marital</th>\n",
              "      <th>education</th>\n",
              "      <th>default</th>\n",
              "      <th>housing</th>\n",
              "      <th>loan</th>\n",
              "      <th>contact</th>\n",
              "      <th>month</th>\n",
              "      <th>day_of_week</th>\n",
              "      <th>campaign</th>\n",
              "      <th>pdays</th>\n",
              "      <th>previous</th>\n",
              "      <th>poutcome</th>\n",
              "      <th>emp.var.rate</th>\n",
              "      <th>cons.price.idx</th>\n",
              "      <th>cons.conf.idx</th>\n",
              "      <th>euribor3m</th>\n",
              "      <th>nr.employed</th>\n",
              "      <th>y</th>\n",
              "    </tr>\n",
              "  </thead>\n",
              "  <tbody>\n",
              "    <tr>\n",
              "      <th>0</th>\n",
              "      <td>56</td>\n",
              "      <td>housemaid</td>\n",
              "      <td>married</td>\n",
              "      <td>basic.4y</td>\n",
              "      <td>no</td>\n",
              "      <td>no</td>\n",
              "      <td>no</td>\n",
              "      <td>telephone</td>\n",
              "      <td>may</td>\n",
              "      <td>mon</td>\n",
              "      <td>1</td>\n",
              "      <td>999</td>\n",
              "      <td>0</td>\n",
              "      <td>nonexistent</td>\n",
              "      <td>1.1</td>\n",
              "      <td>93.994</td>\n",
              "      <td>-36.4</td>\n",
              "      <td>4.857</td>\n",
              "      <td>5191.0</td>\n",
              "      <td>no</td>\n",
              "    </tr>\n",
              "    <tr>\n",
              "      <th>1</th>\n",
              "      <td>57</td>\n",
              "      <td>services</td>\n",
              "      <td>married</td>\n",
              "      <td>high.school</td>\n",
              "      <td>unknown</td>\n",
              "      <td>no</td>\n",
              "      <td>no</td>\n",
              "      <td>telephone</td>\n",
              "      <td>may</td>\n",
              "      <td>mon</td>\n",
              "      <td>1</td>\n",
              "      <td>999</td>\n",
              "      <td>0</td>\n",
              "      <td>nonexistent</td>\n",
              "      <td>1.1</td>\n",
              "      <td>93.994</td>\n",
              "      <td>-36.4</td>\n",
              "      <td>4.857</td>\n",
              "      <td>5191.0</td>\n",
              "      <td>no</td>\n",
              "    </tr>\n",
              "    <tr>\n",
              "      <th>2</th>\n",
              "      <td>37</td>\n",
              "      <td>services</td>\n",
              "      <td>married</td>\n",
              "      <td>high.school</td>\n",
              "      <td>no</td>\n",
              "      <td>yes</td>\n",
              "      <td>no</td>\n",
              "      <td>telephone</td>\n",
              "      <td>may</td>\n",
              "      <td>mon</td>\n",
              "      <td>1</td>\n",
              "      <td>999</td>\n",
              "      <td>0</td>\n",
              "      <td>nonexistent</td>\n",
              "      <td>1.1</td>\n",
              "      <td>93.994</td>\n",
              "      <td>-36.4</td>\n",
              "      <td>4.857</td>\n",
              "      <td>5191.0</td>\n",
              "      <td>no</td>\n",
              "    </tr>\n",
              "    <tr>\n",
              "      <th>3</th>\n",
              "      <td>40</td>\n",
              "      <td>admin.</td>\n",
              "      <td>married</td>\n",
              "      <td>basic.6y</td>\n",
              "      <td>no</td>\n",
              "      <td>no</td>\n",
              "      <td>no</td>\n",
              "      <td>telephone</td>\n",
              "      <td>may</td>\n",
              "      <td>mon</td>\n",
              "      <td>1</td>\n",
              "      <td>999</td>\n",
              "      <td>0</td>\n",
              "      <td>nonexistent</td>\n",
              "      <td>1.1</td>\n",
              "      <td>93.994</td>\n",
              "      <td>-36.4</td>\n",
              "      <td>4.857</td>\n",
              "      <td>5191.0</td>\n",
              "      <td>no</td>\n",
              "    </tr>\n",
              "    <tr>\n",
              "      <th>4</th>\n",
              "      <td>56</td>\n",
              "      <td>services</td>\n",
              "      <td>married</td>\n",
              "      <td>high.school</td>\n",
              "      <td>no</td>\n",
              "      <td>no</td>\n",
              "      <td>yes</td>\n",
              "      <td>telephone</td>\n",
              "      <td>may</td>\n",
              "      <td>mon</td>\n",
              "      <td>1</td>\n",
              "      <td>999</td>\n",
              "      <td>0</td>\n",
              "      <td>nonexistent</td>\n",
              "      <td>1.1</td>\n",
              "      <td>93.994</td>\n",
              "      <td>-36.4</td>\n",
              "      <td>4.857</td>\n",
              "      <td>5191.0</td>\n",
              "      <td>no</td>\n",
              "    </tr>\n",
              "  </tbody>\n",
              "</table>\n",
              "</div>\n",
              "      <button class=\"colab-df-convert\" onclick=\"convertToInteractive('df-a2b4ebae-4f17-4ab6-adfb-248ba56bc83c')\"\n",
              "              title=\"Convert this dataframe to an interactive table.\"\n",
              "              style=\"display:none;\">\n",
              "        \n",
              "  <svg xmlns=\"http://www.w3.org/2000/svg\" height=\"24px\"viewBox=\"0 0 24 24\"\n",
              "       width=\"24px\">\n",
              "    <path d=\"M0 0h24v24H0V0z\" fill=\"none\"/>\n",
              "    <path d=\"M18.56 5.44l.94 2.06.94-2.06 2.06-.94-2.06-.94-.94-2.06-.94 2.06-2.06.94zm-11 1L8.5 8.5l.94-2.06 2.06-.94-2.06-.94L8.5 2.5l-.94 2.06-2.06.94zm10 10l.94 2.06.94-2.06 2.06-.94-2.06-.94-.94-2.06-.94 2.06-2.06.94z\"/><path d=\"M17.41 7.96l-1.37-1.37c-.4-.4-.92-.59-1.43-.59-.52 0-1.04.2-1.43.59L10.3 9.45l-7.72 7.72c-.78.78-.78 2.05 0 2.83L4 21.41c.39.39.9.59 1.41.59.51 0 1.02-.2 1.41-.59l7.78-7.78 2.81-2.81c.8-.78.8-2.07 0-2.86zM5.41 20L4 18.59l7.72-7.72 1.47 1.35L5.41 20z\"/>\n",
              "  </svg>\n",
              "      </button>\n",
              "      \n",
              "  <style>\n",
              "    .colab-df-container {\n",
              "      display:flex;\n",
              "      flex-wrap:wrap;\n",
              "      gap: 12px;\n",
              "    }\n",
              "\n",
              "    .colab-df-convert {\n",
              "      background-color: #E8F0FE;\n",
              "      border: none;\n",
              "      border-radius: 50%;\n",
              "      cursor: pointer;\n",
              "      display: none;\n",
              "      fill: #1967D2;\n",
              "      height: 32px;\n",
              "      padding: 0 0 0 0;\n",
              "      width: 32px;\n",
              "    }\n",
              "\n",
              "    .colab-df-convert:hover {\n",
              "      background-color: #E2EBFA;\n",
              "      box-shadow: 0px 1px 2px rgba(60, 64, 67, 0.3), 0px 1px 3px 1px rgba(60, 64, 67, 0.15);\n",
              "      fill: #174EA6;\n",
              "    }\n",
              "\n",
              "    [theme=dark] .colab-df-convert {\n",
              "      background-color: #3B4455;\n",
              "      fill: #D2E3FC;\n",
              "    }\n",
              "\n",
              "    [theme=dark] .colab-df-convert:hover {\n",
              "      background-color: #434B5C;\n",
              "      box-shadow: 0px 1px 3px 1px rgba(0, 0, 0, 0.15);\n",
              "      filter: drop-shadow(0px 1px 2px rgba(0, 0, 0, 0.3));\n",
              "      fill: #FFFFFF;\n",
              "    }\n",
              "  </style>\n",
              "\n",
              "      <script>\n",
              "        const buttonEl =\n",
              "          document.querySelector('#df-a2b4ebae-4f17-4ab6-adfb-248ba56bc83c button.colab-df-convert');\n",
              "        buttonEl.style.display =\n",
              "          google.colab.kernel.accessAllowed ? 'block' : 'none';\n",
              "\n",
              "        async function convertToInteractive(key) {\n",
              "          const element = document.querySelector('#df-a2b4ebae-4f17-4ab6-adfb-248ba56bc83c');\n",
              "          const dataTable =\n",
              "            await google.colab.kernel.invokeFunction('convertToInteractive',\n",
              "                                                     [key], {});\n",
              "          if (!dataTable) return;\n",
              "\n",
              "          const docLinkHtml = 'Like what you see? Visit the ' +\n",
              "            '<a target=\"_blank\" href=https://colab.research.google.com/notebooks/data_table.ipynb>data table notebook</a>'\n",
              "            + ' to learn more about interactive tables.';\n",
              "          element.innerHTML = '';\n",
              "          dataTable['output_type'] = 'display_data';\n",
              "          await google.colab.output.renderOutput(dataTable, element);\n",
              "          const docLink = document.createElement('div');\n",
              "          docLink.innerHTML = docLinkHtml;\n",
              "          element.appendChild(docLink);\n",
              "        }\n",
              "      </script>\n",
              "    </div>\n",
              "  </div>\n",
              "  "
            ]
          },
          "metadata": {},
          "execution_count": 7
        }
      ]
    },
    {
      "cell_type": "code",
      "metadata": {
        "id": "RnGBwGVZPyyh",
        "colab": {
          "base_uri": "https://localhost:8080/"
        },
        "outputId": "25723c3e-3d1d-44c6-9d5c-4a62e644a3dd"
      },
      "source": [
        "# Display information about the dataframe, including the data type of each column and the number of non-null values\n",
        "campaign.info()"
      ],
      "execution_count": null,
      "outputs": [
        {
          "output_type": "stream",
          "name": "stdout",
          "text": [
            "<class 'pandas.core.frame.DataFrame'>\n",
            "RangeIndex: 37069 entries, 0 to 37068\n",
            "Data columns (total 20 columns):\n",
            " #   Column          Non-Null Count  Dtype  \n",
            "---  ------          --------------  -----  \n",
            " 0   age             37069 non-null  int64  \n",
            " 1   job             37069 non-null  object \n",
            " 2   marital         37069 non-null  object \n",
            " 3   education       37069 non-null  object \n",
            " 4   default         37069 non-null  object \n",
            " 5   housing         37069 non-null  object \n",
            " 6   loan            37069 non-null  object \n",
            " 7   contact         37069 non-null  object \n",
            " 8   month           37069 non-null  object \n",
            " 9   day_of_week     37069 non-null  object \n",
            " 10  campaign        37069 non-null  int64  \n",
            " 11  pdays           37069 non-null  int64  \n",
            " 12  previous        37069 non-null  int64  \n",
            " 13  poutcome        37069 non-null  object \n",
            " 14  emp.var.rate    37069 non-null  float64\n",
            " 15  cons.price.idx  37069 non-null  float64\n",
            " 16  cons.conf.idx   37069 non-null  float64\n",
            " 17  euribor3m       37069 non-null  float64\n",
            " 18  nr.employed     37069 non-null  float64\n",
            " 19  y               37069 non-null  object \n",
            "dtypes: float64(5), int64(4), object(11)\n",
            "memory usage: 5.7+ MB\n"
          ]
        }
      ]
    },
    {
      "cell_type": "code",
      "metadata": {
        "id": "CVSfaqgKPzE2",
        "colab": {
          "base_uri": "https://localhost:8080/",
          "height": 300
        },
        "outputId": "58adc6c7-f29a-4ebb-ccc1-1d3e661a9144"
      },
      "source": [
        "# Display some basic statistics about the numeric columns of the dataframe\n",
        "campaign.describe()"
      ],
      "execution_count": null,
      "outputs": [
        {
          "output_type": "execute_result",
          "data": {
            "text/plain": [
              "                age      campaign         pdays      previous  emp.var.rate  \\\n",
              "count  37069.000000  37069.000000  37069.000000  37069.000000  37069.000000   \n",
              "mean      40.025493      2.564407    962.221803      0.173730      0.081526   \n",
              "std       10.435288      2.764084    187.531477      0.496159      1.572287   \n",
              "min       17.000000      1.000000      0.000000      0.000000     -3.400000   \n",
              "25%       32.000000      1.000000    999.000000      0.000000     -1.800000   \n",
              "50%       38.000000      2.000000    999.000000      0.000000      1.100000   \n",
              "75%       47.000000      3.000000    999.000000      0.000000      1.400000   \n",
              "max       98.000000     56.000000    999.000000      7.000000      1.400000   \n",
              "\n",
              "       cons.price.idx  cons.conf.idx     euribor3m   nr.employed  \n",
              "count    37069.000000   37069.000000  37069.000000  37069.000000  \n",
              "mean        93.576551     -40.494829      3.621945   5167.010650  \n",
              "std          0.579339       4.628895      1.734496     72.294476  \n",
              "min         92.201000     -50.800000      0.634000   4963.600000  \n",
              "25%         93.075000     -42.700000      1.344000   5099.100000  \n",
              "50%         93.749000     -41.800000      4.857000   5191.000000  \n",
              "75%         93.994000     -36.400000      4.961000   5228.100000  \n",
              "max         94.767000     -26.900000      5.045000   5228.100000  "
            ],
            "text/html": [
              "\n",
              "  <div id=\"df-4dbe39d5-86ca-4283-81f9-8592d1fb7216\">\n",
              "    <div class=\"colab-df-container\">\n",
              "      <div>\n",
              "<style scoped>\n",
              "    .dataframe tbody tr th:only-of-type {\n",
              "        vertical-align: middle;\n",
              "    }\n",
              "\n",
              "    .dataframe tbody tr th {\n",
              "        vertical-align: top;\n",
              "    }\n",
              "\n",
              "    .dataframe thead th {\n",
              "        text-align: right;\n",
              "    }\n",
              "</style>\n",
              "<table border=\"1\" class=\"dataframe\">\n",
              "  <thead>\n",
              "    <tr style=\"text-align: right;\">\n",
              "      <th></th>\n",
              "      <th>age</th>\n",
              "      <th>campaign</th>\n",
              "      <th>pdays</th>\n",
              "      <th>previous</th>\n",
              "      <th>emp.var.rate</th>\n",
              "      <th>cons.price.idx</th>\n",
              "      <th>cons.conf.idx</th>\n",
              "      <th>euribor3m</th>\n",
              "      <th>nr.employed</th>\n",
              "    </tr>\n",
              "  </thead>\n",
              "  <tbody>\n",
              "    <tr>\n",
              "      <th>count</th>\n",
              "      <td>37069.000000</td>\n",
              "      <td>37069.000000</td>\n",
              "      <td>37069.000000</td>\n",
              "      <td>37069.000000</td>\n",
              "      <td>37069.000000</td>\n",
              "      <td>37069.000000</td>\n",
              "      <td>37069.000000</td>\n",
              "      <td>37069.000000</td>\n",
              "      <td>37069.000000</td>\n",
              "    </tr>\n",
              "    <tr>\n",
              "      <th>mean</th>\n",
              "      <td>40.025493</td>\n",
              "      <td>2.564407</td>\n",
              "      <td>962.221803</td>\n",
              "      <td>0.173730</td>\n",
              "      <td>0.081526</td>\n",
              "      <td>93.576551</td>\n",
              "      <td>-40.494829</td>\n",
              "      <td>3.621945</td>\n",
              "      <td>5167.010650</td>\n",
              "    </tr>\n",
              "    <tr>\n",
              "      <th>std</th>\n",
              "      <td>10.435288</td>\n",
              "      <td>2.764084</td>\n",
              "      <td>187.531477</td>\n",
              "      <td>0.496159</td>\n",
              "      <td>1.572287</td>\n",
              "      <td>0.579339</td>\n",
              "      <td>4.628895</td>\n",
              "      <td>1.734496</td>\n",
              "      <td>72.294476</td>\n",
              "    </tr>\n",
              "    <tr>\n",
              "      <th>min</th>\n",
              "      <td>17.000000</td>\n",
              "      <td>1.000000</td>\n",
              "      <td>0.000000</td>\n",
              "      <td>0.000000</td>\n",
              "      <td>-3.400000</td>\n",
              "      <td>92.201000</td>\n",
              "      <td>-50.800000</td>\n",
              "      <td>0.634000</td>\n",
              "      <td>4963.600000</td>\n",
              "    </tr>\n",
              "    <tr>\n",
              "      <th>25%</th>\n",
              "      <td>32.000000</td>\n",
              "      <td>1.000000</td>\n",
              "      <td>999.000000</td>\n",
              "      <td>0.000000</td>\n",
              "      <td>-1.800000</td>\n",
              "      <td>93.075000</td>\n",
              "      <td>-42.700000</td>\n",
              "      <td>1.344000</td>\n",
              "      <td>5099.100000</td>\n",
              "    </tr>\n",
              "    <tr>\n",
              "      <th>50%</th>\n",
              "      <td>38.000000</td>\n",
              "      <td>2.000000</td>\n",
              "      <td>999.000000</td>\n",
              "      <td>0.000000</td>\n",
              "      <td>1.100000</td>\n",
              "      <td>93.749000</td>\n",
              "      <td>-41.800000</td>\n",
              "      <td>4.857000</td>\n",
              "      <td>5191.000000</td>\n",
              "    </tr>\n",
              "    <tr>\n",
              "      <th>75%</th>\n",
              "      <td>47.000000</td>\n",
              "      <td>3.000000</td>\n",
              "      <td>999.000000</td>\n",
              "      <td>0.000000</td>\n",
              "      <td>1.400000</td>\n",
              "      <td>93.994000</td>\n",
              "      <td>-36.400000</td>\n",
              "      <td>4.961000</td>\n",
              "      <td>5228.100000</td>\n",
              "    </tr>\n",
              "    <tr>\n",
              "      <th>max</th>\n",
              "      <td>98.000000</td>\n",
              "      <td>56.000000</td>\n",
              "      <td>999.000000</td>\n",
              "      <td>7.000000</td>\n",
              "      <td>1.400000</td>\n",
              "      <td>94.767000</td>\n",
              "      <td>-26.900000</td>\n",
              "      <td>5.045000</td>\n",
              "      <td>5228.100000</td>\n",
              "    </tr>\n",
              "  </tbody>\n",
              "</table>\n",
              "</div>\n",
              "      <button class=\"colab-df-convert\" onclick=\"convertToInteractive('df-4dbe39d5-86ca-4283-81f9-8592d1fb7216')\"\n",
              "              title=\"Convert this dataframe to an interactive table.\"\n",
              "              style=\"display:none;\">\n",
              "        \n",
              "  <svg xmlns=\"http://www.w3.org/2000/svg\" height=\"24px\"viewBox=\"0 0 24 24\"\n",
              "       width=\"24px\">\n",
              "    <path d=\"M0 0h24v24H0V0z\" fill=\"none\"/>\n",
              "    <path d=\"M18.56 5.44l.94 2.06.94-2.06 2.06-.94-2.06-.94-.94-2.06-.94 2.06-2.06.94zm-11 1L8.5 8.5l.94-2.06 2.06-.94-2.06-.94L8.5 2.5l-.94 2.06-2.06.94zm10 10l.94 2.06.94-2.06 2.06-.94-2.06-.94-.94-2.06-.94 2.06-2.06.94z\"/><path d=\"M17.41 7.96l-1.37-1.37c-.4-.4-.92-.59-1.43-.59-.52 0-1.04.2-1.43.59L10.3 9.45l-7.72 7.72c-.78.78-.78 2.05 0 2.83L4 21.41c.39.39.9.59 1.41.59.51 0 1.02-.2 1.41-.59l7.78-7.78 2.81-2.81c.8-.78.8-2.07 0-2.86zM5.41 20L4 18.59l7.72-7.72 1.47 1.35L5.41 20z\"/>\n",
              "  </svg>\n",
              "      </button>\n",
              "      \n",
              "  <style>\n",
              "    .colab-df-container {\n",
              "      display:flex;\n",
              "      flex-wrap:wrap;\n",
              "      gap: 12px;\n",
              "    }\n",
              "\n",
              "    .colab-df-convert {\n",
              "      background-color: #E8F0FE;\n",
              "      border: none;\n",
              "      border-radius: 50%;\n",
              "      cursor: pointer;\n",
              "      display: none;\n",
              "      fill: #1967D2;\n",
              "      height: 32px;\n",
              "      padding: 0 0 0 0;\n",
              "      width: 32px;\n",
              "    }\n",
              "\n",
              "    .colab-df-convert:hover {\n",
              "      background-color: #E2EBFA;\n",
              "      box-shadow: 0px 1px 2px rgba(60, 64, 67, 0.3), 0px 1px 3px 1px rgba(60, 64, 67, 0.15);\n",
              "      fill: #174EA6;\n",
              "    }\n",
              "\n",
              "    [theme=dark] .colab-df-convert {\n",
              "      background-color: #3B4455;\n",
              "      fill: #D2E3FC;\n",
              "    }\n",
              "\n",
              "    [theme=dark] .colab-df-convert:hover {\n",
              "      background-color: #434B5C;\n",
              "      box-shadow: 0px 1px 3px 1px rgba(0, 0, 0, 0.15);\n",
              "      filter: drop-shadow(0px 1px 2px rgba(0, 0, 0, 0.3));\n",
              "      fill: #FFFFFF;\n",
              "    }\n",
              "  </style>\n",
              "\n",
              "      <script>\n",
              "        const buttonEl =\n",
              "          document.querySelector('#df-4dbe39d5-86ca-4283-81f9-8592d1fb7216 button.colab-df-convert');\n",
              "        buttonEl.style.display =\n",
              "          google.colab.kernel.accessAllowed ? 'block' : 'none';\n",
              "\n",
              "        async function convertToInteractive(key) {\n",
              "          const element = document.querySelector('#df-4dbe39d5-86ca-4283-81f9-8592d1fb7216');\n",
              "          const dataTable =\n",
              "            await google.colab.kernel.invokeFunction('convertToInteractive',\n",
              "                                                     [key], {});\n",
              "          if (!dataTable) return;\n",
              "\n",
              "          const docLinkHtml = 'Like what you see? Visit the ' +\n",
              "            '<a target=\"_blank\" href=https://colab.research.google.com/notebooks/data_table.ipynb>data table notebook</a>'\n",
              "            + ' to learn more about interactive tables.';\n",
              "          element.innerHTML = '';\n",
              "          dataTable['output_type'] = 'display_data';\n",
              "          await google.colab.output.renderOutput(dataTable, element);\n",
              "          const docLink = document.createElement('div');\n",
              "          docLink.innerHTML = docLinkHtml;\n",
              "          element.appendChild(docLink);\n",
              "        }\n",
              "      </script>\n",
              "    </div>\n",
              "  </div>\n",
              "  "
            ]
          },
          "metadata": {},
          "execution_count": 12
        }
      ]
    },
    {
      "cell_type": "markdown",
      "source": [
        "## Visualizing the data"
      ],
      "metadata": {
        "id": "AbcA1wp2aJkn"
      }
    },
    {
      "cell_type": "code",
      "source": [
        "import seaborn as sns\n",
        "# Display a histogram of the 'age' column\n",
        "sns.histplot(campaign['age'])"
      ],
      "metadata": {
        "id": "YNiT5P_maGAM",
        "colab": {
          "base_uri": "https://localhost:8080/",
          "height": 466
        },
        "outputId": "6cf7fe27-feeb-4ee3-c0ae-92862316ac9a"
      },
      "execution_count": null,
      "outputs": [
        {
          "output_type": "execute_result",
          "data": {
            "text/plain": [
              "<Axes: xlabel='age', ylabel='Count'>"
            ]
          },
          "metadata": {},
          "execution_count": 21
        },
        {
          "output_type": "display_data",
          "data": {
            "text/plain": [
              "<Figure size 640x480 with 1 Axes>"
            ],
            "image/png": "[encoded data removed]"
          },
          "metadata": {}
        }
      ]
    },
    {
      "cell_type": "code",
      "source": [
        "# Display a bar chart of the 'education' column\n",
        "sns.countplot(x='education', data=campaign)"
      ],
      "metadata": {
        "id": "vadSGZL3aSoV",
        "colab": {
          "base_uri": "https://localhost:8080/",
          "height": 466
        },
        "outputId": "5d545a8a-33d2-4fc9-9cdc-695f58b8d375"
      },
      "execution_count": null,
      "outputs": [
        {
          "output_type": "execute_result",
          "data": {
            "text/plain": [
              "<Axes: xlabel='education', ylabel='count'>"
            ]
          },
          "metadata": {},
          "execution_count": 20
        },
        {
          "output_type": "display_data",
          "data": {
            "text/plain": [
              "<Figure size 640x480 with 1 Axes>"
            ],
            "image/png": "[encoded data removed]"
          },
          "metadata": {}
        }
      ]
    },
    {
      "cell_type": "markdown",
      "source": [
        "# PROJECT QUESTIONS"
      ],
      "metadata": {
        "id": "YSRiEqidBhel"
      }
    },
    {
      "cell_type": "markdown",
      "source": [
        "## DATA SCIENCE METHODS\n",
        "\n",
        "MIGUEL FERREIRA, BANK PRESIDENT ASKS:\n",
        "The core task we're interested in is identifying those customers most likely to subscribe to a term deposit.\n",
        "\n",
        "A term deposit is a fixed-term investment that includes the deposit of money into an account at a financial institution. In this case, our financial institution.\n",
        "\n",
        "I don't know a lot about data science, but I've been trying to get up to speed. Do you think a supervised or unsupervised approach would work best for this situation?"
      ],
      "metadata": {
        "id": "zrHtffqhBaHT"
      }
    },
    {
      "cell_type": "markdown",
      "source": [
        "## TRAIN TEST SPLIT\n",
        "\n",
        "BEATRIZ, SENIOR DATA SCIENTIST ASKS:\n",
        "Miguel, that is a great question.\n",
        "\n",
        "While we are asking detailed questions, the dataset has approximately 37,000 records. How much of that data will you use to train your model?\n",
        "\n",
        "Based on your initial analysis of the data, your team feels:\n",
        "\n",
        "A simple 80/20 split will provide us with enough to accurately train and test our model.\n",
        "A 50/50 split so that we have the same amount of training data as testing.\n",
        "We will pull out 1,000 records for our test dataset and use the other 36,000 for training. This gives our model more to train on and will produce better results.\n",
        "We will use all 37,000 for training and use cross-validation to evaluate the model.\n"
      ],
      "metadata": {
        "id": "Lt218mteBm5L"
      }
    },
    {
      "cell_type": "markdown",
      "source": [
        "## ADDITIONAL INSIGHTS\n",
        "\n",
        "FRANCISCO, VP OF MARKETING ASKS:\n",
        "Aside from the core marketing question Miguel mentioned, I'm wondering if there are other insights we could gain from our data.\n",
        "\n",
        "I can look at the data and tell that some days of the week or some months produce better results than others.\n",
        "\n",
        "I'm wondering if it's possible for us to see if those results are true for all customers, or if some types of customers respond better on certain days than others?"
      ],
      "metadata": {
        "id": "HANAeumIBvKd"
      }
    },
    {
      "cell_type": "markdown",
      "source": [
        "## DATA PRIVACY LAWS\n",
        "\n",
        "BEATRIZ, SENIOR DATA SCIENTIST ASKS:\n",
        "Since we're operating in the European Union, we're subject to GDPR compliance requirements.\n",
        "\n",
        "What do you think we might need to do for this project in order to be compliant with GDPR regulations?\n",
        "\n",
        "Based on your initial analysis of the data, your team feels:\n",
        "\n",
        "This is historic data, so we should be just fine.\n",
        "This is anonymous data, so we should be just fine.\n",
        "The GDPR doesn't apply in this situation, since we're just building a model, not selling data.\n",
        "In order to use this data under GDPR, we'll need to get consent from the customers in the dataset."
      ],
      "metadata": {
        "id": "oOBLW27mB0EN"
      }
    },
    {
      "cell_type": "markdown",
      "source": [
        "# PROJECT ISSUES"
      ],
      "metadata": {
        "id": "oH3hXIR8CQVh"
      }
    },
    {
      "cell_type": "markdown",
      "source": [
        "## CREATING MOST LIKELY TO SUSCRIBE MODEL (William)\n",
        "\n",
        "MIGUEL FERREIRA, BANK PRESIDENT ASKS:\n",
        "Like I said the other day, the core task we're interested in is identifying those customers most likely to subscribe to a term deposit.\n",
        "\n",
        "This way, we can build a targeted marketing campaign that focuses primarily on those customers.\n",
        "\n",
        "**Make sure to save it to a file (use the team repo)**"
      ],
      "metadata": {
        "id": "ZD5HqmbdCj6K"
      }
    },
    {
      "cell_type": "markdown",
      "source": [
        "## DATA PATTERNS AND INSIGHTS (Sean)\n",
        "\n",
        "FRANCISCO, VP OF MARKETING SAYS:\n",
        "And I'd like you to find any actionable patterns in our results. Should we only call single people on Saturdays? Does it make sense to call students at all?\n",
        "\n",
        "Things like that.\n",
        "\n",
        "MIGUEL FERREIRA, BANK PRESIDENT ADDS:\n",
        "One other thing we should probably address, does contacting people too frequently for these marketing campaigns have an adverse affect on the outcome?"
      ],
      "metadata": {
        "id": "HOpT7vZ4C3Zz"
      }
    },
    {
      "cell_type": "markdown",
      "source": [
        "## CREATING ADDITIONAL MODEL BASED ON CONSUMER CONFIDENCE (Luke)\n",
        "\n",
        "BEATRIZ, SENIOR DATA SCIENTIST SAYS:\n",
        "One last thing, there are a bunch of social and economic indicators in the data.\n",
        "\n",
        "We should be careful about how we consider these. We may want to see separate models for times when, for example, the consumer confidence index is high compared to when it is low.\n",
        "\n",
        "MIGUEL FERREIRA, BANK PRESIDENT ADDS:\n",
        "Good thought Beatriz. Different customer segments tend to react to economic changes differently.\n",
        "\n",
        "We'll definitely want to know if it's better to use a particular model during different economic situations.\n",
        "\n",
        "**Make sure to save it to a file (use the team repo)**"
      ],
      "metadata": {
        "id": "QxMAc-2IDxr6"
      }
    },
    {
      "cell_type": "markdown",
      "source": [
        "## TESTING\n",
        "\n",
        "FRANCISCO, VP OF MARKETING SAYS:\n",
        "I have an additional request. We just received the results of our last marketing campaign and want to test your model against the list to see what impact it would have had against our bottom line. Could you run the list through your model and make some predictions for us?\n",
        "\n",
        "You can access the data here: https://raw.githubusercontent.com/byui-cse/cse450-course/master/data/bank_holdout_test.csv\n",
        "\n",
        "Then, please submit a csv file that has a single column, with the header \"predictions\" and a prediction (one per row) for each individual in this file. If we should contact the individual, predict a 1. If we shouldn't contact the individual, predict a 0 for that row. There should be 4,119 predictions in the csv file when completed.\n",
        "\n",
        "Here is an example of what the csv should look like when finished (if your model had predicted to not contact anyone. Hopefully your csv has more 1s in it.): https://raw.githubusercontent.com/byui-cse/cse450-course/master/data/bank_csv_answers_sample.csv"
      ],
      "metadata": {
        "id": "Jn-nRnVcF12n"
      }
    },
    {
      "cell_type": "markdown",
      "source": [
        "## DELIVERIES\n",
        "\n",
        "MIGUEL FERREIRA, BANK PRESIDENT ADDS:\n",
        "Sounds like we have enough to get started. If you could send us your write up on this, that would be great.\n",
        "\n",
        "- EXECUTIVE SUMMARY\n",
        "- TEAM PRESENTATION VIDEO"
      ],
      "metadata": {
        "id": "wVmbm3YVGBWw"
      }
    },
    {
      "cell_type": "markdown",
      "source": [
        "# RESOURCES\n",
        "\n"
      ],
      "metadata": {
        "id": "Yr4H_g5WEqhr"
      }
    },
    {
      "cell_type": "markdown",
      "source": [
        "[SOURCE](https://byui-cse.github.io/cse450-course/module-02/project.html\n",
        ")\n",
        "\n",
        "Tips from Johnny:\n",
        "\n",
        "JOHNNY, THE DATA SCIENCE INTERN, WHISPERS TO YOU AFTER THE MEETING:\n",
        "Hey, I put together a list of tips and ideas that might help us out:\n",
        "\n",
        "## DATA DICTIONARY\n",
        "\n",
        "Our database analyst put together this data dictionary to help explain the values and sources of different columns in the bank dataset, so be sure to review that.\n",
        "\n",
        "## TARGET VARIABLE\n",
        "\n",
        "One oddity here is that our target feature is simply labled y, but it's a boolean indicating \"y\" or \"n\", did the client subscribe to a term deposit.\n",
        "\n",
        "## BINNING\n",
        "\n",
        "Just as you did with the Titanic dataset when you reduced the number of titles, you may find it useful to \"bin\" categorical features into discrete groups in order to address some of the questions above. There are multiple ways to do this, but previously we used the map() function.\n",
        "\n",
        "## DECISION TREES\n",
        "\n",
        "You can find documentation on how to use decision trees with sci-kit learn on these pages:\n",
        "\n",
        "[User Guide Entry for Decision Trees](https://scikit-learn.org/stable/modules/tree.html)\n",
        "[API Reference for DecisionTreeClassifier](https://scikit-learn.org/stable/modules/generated/sklearn.tree.DecisionTreeClassifier.html)\n",
        "[Tips for Practical Use, from the User Guide](https://scikit-learn.org/stable/modules/tree.html#tips-on-practical-use)\n",
        "\n",
        "## MODEL PERSISTENCE\n",
        "\n",
        "When you train a model, a large amount of information is stored in memory. That model can then be used to make predictions for new instances at a later time.\n",
        "\n",
        "You'll want to save these trained models using python's pickle module, as shown here.\n",
        "\n",
        "However, rather than using pickle's default protocol version, you should use protocol version 5, which was introduced in Python 3.8 and is optimized for dealing with structures that contain numpy arrays and pandas data frames.\n",
        "\n",
        "## MODEL ENSEMBLES, BAGGING, AND BOOSTING\n",
        "\n",
        "Often, we can get better results by using a set of models, each using a slightly different set of training data, or other parameters. These are called \"Model Ensembles\" and it's very common to use an ensemble of decision trees (often called a \"Random Forest\") rather than a single tree.\n",
        "\n",
        "Two popular techniques used in the creation of ensembles are \"boosting\" and \"bagging\". You can read more about these topics on pages 163 - 167 of your textbook.\n",
        "\n",
        "For details on how to use these techniques with Sci-Kit Learn, see this page.\n",
        "\n",
        "## AVOIDING OVERFITTING THROUGH PRUNING\n",
        "\n",
        "It is very easy to overfit a decision tree. The text discusses strategies to avoid this problem in section 4.4.4 (pages 158 - 163).\n",
        "\n",
        "In SciKit-Learn, you can use parameters such as max_depth and min_samples_leaf to control tree complexity and overfitting.\n",
        "\n",
        "Alternatively, you can use something more elaborate, such as cost complexity pruning.\n",
        "\n",
        "\n",
        "JOHNNY, THE DATA SCIENCE INTERN, DROPS BY YOUR HOTEL ROOM AROUND MIDNIGHT:\n",
        "Okay, just one last thing, if you need any more help at all, I put together this collection of Google Colab notebooks that might be useful."
      ],
      "metadata": {
        "id": "14t8MbsxGSs2"
      }
    }
  ]
}