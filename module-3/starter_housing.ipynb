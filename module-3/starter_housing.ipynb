{
  "nbformat": 4,
  "nbformat_minor": 0,
  "metadata": {
    "colab": {
      "provenance": [],
      "include_colab_link": true
    },
    "kernelspec": {
      "name": "python3",
      "display_name": "Python 3"
    }
  },
  "cells": [
    {
      "cell_type": "markdown",
      "metadata": {
        "id": "view-in-github",
        "colab_type": "text"
      },
      "source": [
        "<a href=\"https://colab.research.google.com/github/wmezadev/CSE-450-TEAM-4/blob/init-module-03/starter_housing.ipynb\" target=\"_parent\"><img src=\"https://colab.research.google.com/assets/colab-badge.svg\" alt=\"Open In Colab\"/></a>"
      ]
    },
    {
      "cell_type": "markdown",
      "source": [
        "# Module 03 — Housing Estimates, Case Study Introduction\n",
        "\n",
        "\n"
      ],
      "metadata": {
        "id": "fAvZkQ35GbF2"
      }
    },
    {
      "cell_type": "markdown",
      "source": [
        "## Introduction"
      ],
      "metadata": {
        "id": "o71Af1v3I8nw"
      }
    },
    {
      "cell_type": "markdown",
      "source": [
        "You're working as a data analyst for Reddic Housing LLC, a company that specializes in providing house price estimates to development firms.\n",
        "\n",
        "Recently, a rival company (Grenic Housing Inc) announced that they were launching a set of initiatives to use Artificial Intelligence and Machine Learning to bring their housing estimates into the twenty-first century.\n",
        "\n",
        "After a heated shareholders meeting, the board of directors has tasked the CEO with making sure Reddic Housing LLC isn't left behind."
      ],
      "metadata": {
        "id": "yaac5gGEJDdl"
      }
    },
    {
      "cell_type": "markdown",
      "source": [
        "## Data Dictionary for the Housing dataset"
      ],
      "metadata": {
        "id": "m-UZ88f1I5up"
      }
    },
    {
      "cell_type": "markdown",
      "source": [
        "*   id - Unique ID for each home sold\n",
        "*   date - Date of the home sale\n",
        "*   price - Price of each home sold\n",
        "*   bedrooms - Number of bedrooms\n",
        "*   bathrooms - Number of bathrooms, where .5 accounts for a room with a toilet but no shower\n",
        "*   sqft_living - Square footage of the apartments interior living space\n",
        "*   sqft_lot - Square footage of the land space\n",
        "floors - Number of floors\n",
        "*   waterfront - A dummy variable for whether the apartment was overlooking the waterfront or not\n",
        "*   view - An index from 0 to 4 of how good the view of the property was\n",
        "*   condition - An index from 1 to 5 on the condition of the apartment,\n",
        "*   grade - An index from 1 to 13, where 1-3 falls short of building construction and design, 7 has an average level of construction and design, and 11-13 have a high quality level of construction and design.\n",
        "*   sqft_above - The square footage of the interior housing space that is above ground level\n",
        "*   sqft_basement - The square footage of the interior housing space that is below ground level\n",
        "*   yr_built - The year the house was initially built\n",
        "*   yr_renovated - The year of the house’s last renovation\n",
        "*   zipcode - What zipcode area the house was listed in\n",
        "*   lat - Latitude\n",
        "*   long - Longitude\n",
        "*   sqft_living15 - The square footage of interior housing living space for the nearest 15 neighbors\n",
        "*   sqft_lot15 - The square footage of the land lots of the nearest 15 neighbors"
      ],
      "metadata": {
        "id": "3Tww9yaKJJUN"
      }
    },
    {
      "cell_type": "code",
      "metadata": {
        "id": "mA0HPVmIBT4C"
      },
      "source": [
        "import pandas as pd\n",
        "\n",
        "housing = pd.read_csv('https://raw.githubusercontent.com/byui-cse/cse450-course/master/data/housing.csv')"
      ],
      "execution_count": 5,
      "outputs": []
    },
    {
      "cell_type": "code",
      "metadata": {
        "id": "StiU5QcPPxqQ",
        "colab": {
          "base_uri": "https://localhost:8080/",
          "height": 300
        },
        "outputId": "d32de1d1-bf32-4080-e0af-422a36fb8bd6"
      },
      "source": [
        "# Display the first 5 rows of the dataframe\n",
        "housing.head()"
      ],
      "execution_count": 6,
      "outputs": [
        {
          "output_type": "execute_result",
          "data": {
            "text/plain": [
              "           id             date  bedrooms  bathrooms  sqft_living  sqft_lot  \\\n",
              "0  1565930130  20141104T000000         4       3.25         3760      4675   \n",
              "1  3279000420  20150115T000000         3       1.75         1460      7800   \n",
              "2   194000575  20141014T000000         4       1.00         1340      5800   \n",
              "3  2115510160  20141208T000000         3       1.75         1440      8050   \n",
              "4  7522500005  20140815T000000         2       1.50         1780      4750   \n",
              "\n",
              "   floors  waterfront  view  condition  ...  sqft_above  sqft_basement  \\\n",
              "0     2.0           0     0          3  ...        2740           1020   \n",
              "1     1.0           0     0          2  ...        1040            420   \n",
              "2     1.5           0     2          3  ...        1340              0   \n",
              "3     1.0           0     0          3  ...        1440              0   \n",
              "4     1.0           0     0          4  ...        1080            700   \n",
              "\n",
              "   yr_built  yr_renovated  zipcode      lat     long  sqft_living15  \\\n",
              "0      2007             0    98038  47.3862 -122.048           3280   \n",
              "1      1979             0    98023  47.3035 -122.382           1310   \n",
              "2      1914             0    98116  47.5658 -122.389           1900   \n",
              "3      1985             0    98023  47.3187 -122.390           1790   \n",
              "4      1947             0    98117  47.6859 -122.395           1690   \n",
              "\n",
              "   sqft_lot15     price  \n",
              "0        4033  429900.0  \n",
              "1        7865  233000.0  \n",
              "2        5800  455000.0  \n",
              "3        7488  258950.0  \n",
              "4        5962  555000.0  \n",
              "\n",
              "[5 rows x 21 columns]"
            ],
            "text/html": [
              "\n",
              "  <div id=\"df-7ce43b52-a6de-406e-b96e-194593715acd\">\n",
              "    <div class=\"colab-df-container\">\n",
              "      <div>\n",
              "<style scoped>\n",
              "    .dataframe tbody tr th:only-of-type {\n",
              "        vertical-align: middle;\n",
              "    }\n",
              "\n",
              "    .dataframe tbody tr th {\n",
              "        vertical-align: top;\n",
              "    }\n",
              "\n",
              "    .dataframe thead th {\n",
              "        text-align: right;\n",
              "    }\n",
              "</style>\n",
              "<table border=\"1\" class=\"dataframe\">\n",
              "  <thead>\n",
              "    <tr style=\"text-align: right;\">\n",
              "      <th></th>\n",
              "      <th>id</th>\n",
              "      <th>date</th>\n",
              "      <th>bedrooms</th>\n",
              "      <th>bathrooms</th>\n",
              "      <th>sqft_living</th>\n",
              "      <th>sqft_lot</th>\n",
              "      <th>floors</th>\n",
              "      <th>waterfront</th>\n",
              "      <th>view</th>\n",
              "      <th>condition</th>\n",
              "      <th>...</th>\n",
              "      <th>sqft_above</th>\n",
              "      <th>sqft_basement</th>\n",
              "      <th>yr_built</th>\n",
              "      <th>yr_renovated</th>\n",
              "      <th>zipcode</th>\n",
              "      <th>lat</th>\n",
              "      <th>long</th>\n",
              "      <th>sqft_living15</th>\n",
              "      <th>sqft_lot15</th>\n",
              "      <th>price</th>\n",
              "    </tr>\n",
              "  </thead>\n",
              "  <tbody>\n",
              "    <tr>\n",
              "      <th>0</th>\n",
              "      <td>1565930130</td>\n",
              "      <td>20141104T000000</td>\n",
              "      <td>4</td>\n",
              "      <td>3.25</td>\n",
              "      <td>3760</td>\n",
              "      <td>4675</td>\n",
              "      <td>2.0</td>\n",
              "      <td>0</td>\n",
              "      <td>0</td>\n",
              "      <td>3</td>\n",
              "      <td>...</td>\n",
              "      <td>2740</td>\n",
              "      <td>1020</td>\n",
              "      <td>2007</td>\n",
              "      <td>0</td>\n",
              "      <td>98038</td>\n",
              "      <td>47.3862</td>\n",
              "      <td>-122.048</td>\n",
              "      <td>3280</td>\n",
              "      <td>4033</td>\n",
              "      <td>429900.0</td>\n",
              "    </tr>\n",
              "    <tr>\n",
              "      <th>1</th>\n",
              "      <td>3279000420</td>\n",
              "      <td>20150115T000000</td>\n",
              "      <td>3</td>\n",
              "      <td>1.75</td>\n",
              "      <td>1460</td>\n",
              "      <td>7800</td>\n",
              "      <td>1.0</td>\n",
              "      <td>0</td>\n",
              "      <td>0</td>\n",
              "      <td>2</td>\n",
              "      <td>...</td>\n",
              "      <td>1040</td>\n",
              "      <td>420</td>\n",
              "      <td>1979</td>\n",
              "      <td>0</td>\n",
              "      <td>98023</td>\n",
              "      <td>47.3035</td>\n",
              "      <td>-122.382</td>\n",
              "      <td>1310</td>\n",
              "      <td>7865</td>\n",
              "      <td>233000.0</td>\n",
              "    </tr>\n",
              "    <tr>\n",
              "      <th>2</th>\n",
              "      <td>194000575</td>\n",
              "      <td>20141014T000000</td>\n",
              "      <td>4</td>\n",
              "      <td>1.00</td>\n",
              "      <td>1340</td>\n",
              "      <td>5800</td>\n",
              "      <td>1.5</td>\n",
              "      <td>0</td>\n",
              "      <td>2</td>\n",
              "      <td>3</td>\n",
              "      <td>...</td>\n",
              "      <td>1340</td>\n",
              "      <td>0</td>\n",
              "      <td>1914</td>\n",
              "      <td>0</td>\n",
              "      <td>98116</td>\n",
              "      <td>47.5658</td>\n",
              "      <td>-122.389</td>\n",
              "      <td>1900</td>\n",
              "      <td>5800</td>\n",
              "      <td>455000.0</td>\n",
              "    </tr>\n",
              "    <tr>\n",
              "      <th>3</th>\n",
              "      <td>2115510160</td>\n",
              "      <td>20141208T000000</td>\n",
              "      <td>3</td>\n",
              "      <td>1.75</td>\n",
              "      <td>1440</td>\n",
              "      <td>8050</td>\n",
              "      <td>1.0</td>\n",
              "      <td>0</td>\n",
              "      <td>0</td>\n",
              "      <td>3</td>\n",
              "      <td>...</td>\n",
              "      <td>1440</td>\n",
              "      <td>0</td>\n",
              "      <td>1985</td>\n",
              "      <td>0</td>\n",
              "      <td>98023</td>\n",
              "      <td>47.3187</td>\n",
              "      <td>-122.390</td>\n",
              "      <td>1790</td>\n",
              "      <td>7488</td>\n",
              "      <td>258950.0</td>\n",
              "    </tr>\n",
              "    <tr>\n",
              "      <th>4</th>\n",
              "      <td>7522500005</td>\n",
              "      <td>20140815T000000</td>\n",
              "      <td>2</td>\n",
              "      <td>1.50</td>\n",
              "      <td>1780</td>\n",
              "      <td>4750</td>\n",
              "      <td>1.0</td>\n",
              "      <td>0</td>\n",
              "      <td>0</td>\n",
              "      <td>4</td>\n",
              "      <td>...</td>\n",
              "      <td>1080</td>\n",
              "      <td>700</td>\n",
              "      <td>1947</td>\n",
              "      <td>0</td>\n",
              "      <td>98117</td>\n",
              "      <td>47.6859</td>\n",
              "      <td>-122.395</td>\n",
              "      <td>1690</td>\n",
              "      <td>5962</td>\n",
              "      <td>555000.0</td>\n",
              "    </tr>\n",
              "  </tbody>\n",
              "</table>\n",
              "<p>5 rows × 21 columns</p>\n",
              "</div>\n",
              "      <button class=\"colab-df-convert\" onclick=\"convertToInteractive('df-7ce43b52-a6de-406e-b96e-194593715acd')\"\n",
              "              title=\"Convert this dataframe to an interactive table.\"\n",
              "              style=\"display:none;\">\n",
              "        \n",
              "  <svg xmlns=\"http://www.w3.org/2000/svg\" height=\"24px\"viewBox=\"0 0 24 24\"\n",
              "       width=\"24px\">\n",
              "    <path d=\"M0 0h24v24H0V0z\" fill=\"none\"/>\n",
              "    <path d=\"M18.56 5.44l.94 2.06.94-2.06 2.06-.94-2.06-.94-.94-2.06-.94 2.06-2.06.94zm-11 1L8.5 8.5l.94-2.06 2.06-.94-2.06-.94L8.5 2.5l-.94 2.06-2.06.94zm10 10l.94 2.06.94-2.06 2.06-.94-2.06-.94-.94-2.06-.94 2.06-2.06.94z\"/><path d=\"M17.41 7.96l-1.37-1.37c-.4-.4-.92-.59-1.43-.59-.52 0-1.04.2-1.43.59L10.3 9.45l-7.72 7.72c-.78.78-.78 2.05 0 2.83L4 21.41c.39.39.9.59 1.41.59.51 0 1.02-.2 1.41-.59l7.78-7.78 2.81-2.81c.8-.78.8-2.07 0-2.86zM5.41 20L4 18.59l7.72-7.72 1.47 1.35L5.41 20z\"/>\n",
              "  </svg>\n",
              "      </button>\n",
              "      \n",
              "  <style>\n",
              "    .colab-df-container {\n",
              "      display:flex;\n",
              "      flex-wrap:wrap;\n",
              "      gap: 12px;\n",
              "    }\n",
              "\n",
              "    .colab-df-convert {\n",
              "      background-color: #E8F0FE;\n",
              "      border: none;\n",
              "      border-radius: 50%;\n",
              "      cursor: pointer;\n",
              "      display: none;\n",
              "      fill: #1967D2;\n",
              "      height: 32px;\n",
              "      padding: 0 0 0 0;\n",
              "      width: 32px;\n",
              "    }\n",
              "\n",
              "    .colab-df-convert:hover {\n",
              "      background-color: #E2EBFA;\n",
              "      box-shadow: 0px 1px 2px rgba(60, 64, 67, 0.3), 0px 1px 3px 1px rgba(60, 64, 67, 0.15);\n",
              "      fill: #174EA6;\n",
              "    }\n",
              "\n",
              "    [theme=dark] .colab-df-convert {\n",
              "      background-color: #3B4455;\n",
              "      fill: #D2E3FC;\n",
              "    }\n",
              "\n",
              "    [theme=dark] .colab-df-convert:hover {\n",
              "      background-color: #434B5C;\n",
              "      box-shadow: 0px 1px 3px 1px rgba(0, 0, 0, 0.15);\n",
              "      filter: drop-shadow(0px 1px 2px rgba(0, 0, 0, 0.3));\n",
              "      fill: #FFFFFF;\n",
              "    }\n",
              "  </style>\n",
              "\n",
              "      <script>\n",
              "        const buttonEl =\n",
              "          document.querySelector('#df-7ce43b52-a6de-406e-b96e-194593715acd button.colab-df-convert');\n",
              "        buttonEl.style.display =\n",
              "          google.colab.kernel.accessAllowed ? 'block' : 'none';\n",
              "\n",
              "        async function convertToInteractive(key) {\n",
              "          const element = document.querySelector('#df-7ce43b52-a6de-406e-b96e-194593715acd');\n",
              "          const dataTable =\n",
              "            await google.colab.kernel.invokeFunction('convertToInteractive',\n",
              "                                                     [key], {});\n",
              "          if (!dataTable) return;\n",
              "\n",
              "          const docLinkHtml = 'Like what you see? Visit the ' +\n",
              "            '<a target=\"_blank\" href=https://colab.research.google.com/notebooks/data_table.ipynb>data table notebook</a>'\n",
              "            + ' to learn more about interactive tables.';\n",
              "          element.innerHTML = '';\n",
              "          dataTable['output_type'] = 'display_data';\n",
              "          await google.colab.output.renderOutput(dataTable, element);\n",
              "          const docLink = document.createElement('div');\n",
              "          docLink.innerHTML = docLinkHtml;\n",
              "          element.appendChild(docLink);\n",
              "        }\n",
              "      </script>\n",
              "    </div>\n",
              "  </div>\n",
              "  "
            ]
          },
          "metadata": {},
          "execution_count": 6
        }
      ]
    },
    {
      "cell_type": "code",
      "metadata": {
        "id": "ALLMN63FPyEQ",
        "colab": {
          "base_uri": "https://localhost:8080/"
        },
        "outputId": "d09e78c7-da26-4b15-d58e-d84c90ac0ad3"
      },
      "source": [
        "# Display information about the dataframe, including the data type of each column and the number of non-null values\n",
        "housing.info()"
      ],
      "execution_count": 4,
      "outputs": [
        {
          "output_type": "stream",
          "name": "stdout",
          "text": [
            "<class 'pandas.core.frame.DataFrame'>\n",
            "RangeIndex: 20000 entries, 0 to 19999\n",
            "Data columns (total 21 columns):\n",
            " #   Column         Non-Null Count  Dtype  \n",
            "---  ------         --------------  -----  \n",
            " 0   id             20000 non-null  int64  \n",
            " 1   date           20000 non-null  object \n",
            " 2   bedrooms       20000 non-null  int64  \n",
            " 3   bathrooms      20000 non-null  float64\n",
            " 4   sqft_living    20000 non-null  int64  \n",
            " 5   sqft_lot       20000 non-null  int64  \n",
            " 6   floors         20000 non-null  float64\n",
            " 7   waterfront     20000 non-null  int64  \n",
            " 8   view           20000 non-null  int64  \n",
            " 9   condition      20000 non-null  int64  \n",
            " 10  grade          20000 non-null  int64  \n",
            " 11  sqft_above     20000 non-null  int64  \n",
            " 12  sqft_basement  20000 non-null  int64  \n",
            " 13  yr_built       20000 non-null  int64  \n",
            " 14  yr_renovated   20000 non-null  int64  \n",
            " 15  zipcode        20000 non-null  int64  \n",
            " 16  lat            20000 non-null  float64\n",
            " 17  long           20000 non-null  float64\n",
            " 18  sqft_living15  20000 non-null  int64  \n",
            " 19  sqft_lot15     20000 non-null  int64  \n",
            " 20  price          20000 non-null  float64\n",
            "dtypes: float64(5), int64(15), object(1)\n",
            "memory usage: 3.2+ MB\n"
          ]
        }
      ]
    },
    {
      "cell_type": "markdown",
      "source": [
        "## Project Questions (Disscusion board)"
      ],
      "metadata": {
        "id": "go_NPvlAIvrD"
      }
    },
    {
      "cell_type": "markdown",
      "source": [
        "### Problem Type\n",
        "\n",
        "DEVON, THE CEO SAYS:\n",
        "I just sat through four hours of machine learning training with the board of directors this past week, so I'm curious to get your take on this.\n",
        "\n",
        "Looking at the data and our business model, what kind of machine learning problem do you think we're looking at here?\n",
        "\n",
        "**Answer: Numerical/Regresion Problem**"
      ],
      "metadata": {
        "id": "fQe2ooSRJZ6R"
      }
    },
    {
      "cell_type": "markdown",
      "source": [
        "### Model Confidence\n",
        "\n",
        "CECIL, THE VP OF CUSTOMER RELATIONS ASKS:\n",
        "My biggest concern right now is making sure that whatever method we come up with to predict housing prices, we can also attach some kind of empirical confidence metric.\n",
        "\n",
        "Based on your initial analysis of the data, your team feels you can best show confidence in your model by using:\n",
        "\n",
        "* A. The sum of squares error (SSE).\n",
        "* B. The mean squared error (MSE).\n",
        "* C. The root mean squared error (RMSE).\n",
        "* D. The R2(R squared) value.\n",
        "\n",
        "**Answer: D. The R2(R squared) value**\n",
        "\n"
      ],
      "metadata": {
        "id": "viw74ceoJkFh"
      }
    },
    {
      "cell_type": "markdown",
      "source": [
        "### Insurance Question\n",
        "\n",
        "WILLIAM, THE VP OF FINANCE ASKS:\n",
        "Our insurance customers are particularly interested in making sure that homes in… unsavory neighborhoods, aren't estimated high.\n",
        "\n",
        "Is there a way we can easily identify properties in low income areas and have the model lower those estimates to protect our insurance customers' interests?\n",
        "\n",
        "Based on your initial analysis of the data, your team feels:\n",
        "\n",
        "* A. We can lower the predicted price for specific neighborhoods before training the model.\n",
        "* B. We can add average income or other demographic information for the area as features.\n",
        "* C. For specific zip codes we could add a step to our pipeline that reduces the predicted price by a specific percentage prior to outputting the final price result to ensure the properties aren't being overvalued.\n",
        "* D. Taking this kind of action would be a violation of federal laws and/or ethics.\n",
        "\n",
        "**Answer: B. We can add average income or other demographic information for the area as features. (in case we could get that data)**"
      ],
      "metadata": {
        "id": "QZkDdSJRK1m5"
      }
    },
    {
      "cell_type": "markdown",
      "source": [
        "### Data Analysis\n",
        "\n",
        "JOHNNY, THE DATA SCIENCE INTERN ASKS:\n",
        "The head of data science says we should use gradient boosted trees for this analysis.\n",
        "\n",
        "I've noticed that a lot of the features use pretty different ranges.\n",
        "\n",
        "For example, how should we handle square footage?\n",
        "\n",
        "**Answer: We could normalize the data by using robust scaling method**"
      ],
      "metadata": {
        "id": "nKgx-2f8LVqg"
      }
    },
    {
      "cell_type": "markdown",
      "source": [
        "## Project Issues"
      ],
      "metadata": {
        "id": "B3UbzX_pMH1V"
      }
    },
    {
      "cell_type": "markdown",
      "source": [
        "### Initial Model (Luke and Nicholas)"
      ],
      "metadata": {
        "id": "F26i4uwhMtuc"
      }
    },
    {
      "cell_type": "markdown",
      "source": [
        "CECIL, THE VP OF CUSTOMER RELATIONS SAYS:\n",
        "The biggest thing I want to see is quantifiable evidence that the predictions we come up with are reliable."
      ],
      "metadata": {
        "id": "bJ5K17ElMKt2"
      }
    },
    {
      "cell_type": "markdown",
      "source": [
        "## Additional Insights (Elias)"
      ],
      "metadata": {
        "id": "hhwO2b7WM0Sq"
      }
    },
    {
      "cell_type": "markdown",
      "source": [
        "WILLIAM, THE VP OF FINANCE ASKS:\n",
        "I'd like to know which property types are weighing most heavily in the house prices predicted by your model. My excel spreadsheets can tell me that information for our current methodology...can your so-called artificial intelligence do the same?"
      ],
      "metadata": {
        "id": "JXjyVNmRMPr3"
      }
    },
    {
      "cell_type": "markdown",
      "source": [
        "### Optimizing the Model (Elias)"
      ],
      "metadata": {
        "id": "Rm2zJ5SHNChT"
      }
    },
    {
      "cell_type": "markdown",
      "source": [
        "DEVON, THE CEO ADDS:\n",
        "Yes...thank you William. These are all great questions.\n",
        "\n",
        "One other question the board was wondering about, is if there are additional factors about these areas that might be affecting prices, which we aren't taking into account.\n",
        "\n",
        "That may be a little above and beyond what you're team is planning, since it would require finding more data from an external source and correlating it with the data we already have, but if you have the time, I know they'd appreciate it.\n",
        "\n",
        "If you could send us your [team's write up on this by Saturday night, that would be great.](https://byui-cse.github.io/cse450-course/module-03/summary.docx)"
      ],
      "metadata": {
        "id": "xQRMzy8xMXLb"
      }
    },
    {
      "cell_type": "markdown",
      "source": [
        "### Testing (Austin)\n",
        "\n"
      ],
      "metadata": {
        "id": "pJOgbyynM-6x"
      }
    },
    {
      "cell_type": "markdown",
      "source": [
        "CECIL, THE VP OF CUSTOMER RELATIONS SAYS:\n",
        "Oh, one more thing. We actually just received a batch of new home data. Could you run your model on it to make some predictions for us? We are anxious to see your model in action.\n",
        "\n",
        "You can access the data here: https://raw.githubusercontent.com/byui-cse/cse450-course/master/data/housing_holdout_test.csv\n",
        "\n",
        "Then, please include with your write up a csv file that has a single column, with the header: \"price\" and a prediction (one per row) for each of the homes in this file."
      ],
      "metadata": {
        "id": "zSkwxeBfMpjm"
      }
    }
  ]
}